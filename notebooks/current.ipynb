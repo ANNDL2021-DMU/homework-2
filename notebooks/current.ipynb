{
 "cells": [
  {
   "cell_type": "markdown",
   "id": "2aa13029",
   "metadata": {
    "papermill": {
     "duration": 0.024174,
     "end_time": "2021-12-22T13:24:31.103190",
     "exception": false,
     "start_time": "2021-12-22T13:24:31.079016",
     "status": "completed"
    },
    "tags": []
   },
   "source": [
    "# Initialization"
   ]
  },
  {
   "cell_type": "code",
   "execution_count": null,
   "id": "2b3478f6",
   "metadata": {
    "_cell_guid": "b1076dfc-b9ad-4769-8c92-a6c4dae69d19",
    "_uuid": "8f2839f25d086af736a60e9eeb907d3b93b6e0e5",
    "execution": {
     "iopub.execute_input": "2021-12-22T13:24:31.162367Z",
     "iopub.status.busy": "2021-12-22T13:24:31.161251Z",
     "iopub.status.idle": "2021-12-22T13:24:36.598013Z",
     "shell.execute_reply": "2021-12-22T13:24:36.597245Z",
     "shell.execute_reply.started": "2021-12-13T22:32:28.224696Z"
    },
    "papermill": {
     "duration": 5.470831,
     "end_time": "2021-12-22T13:24:36.598194",
     "exception": false,
     "start_time": "2021-12-22T13:24:31.127363",
     "status": "completed"
    },
    "tags": []
   },
   "outputs": [],
   "source": [
    "import tensorflow as tf\n",
    "import numpy as np\n",
    "import os\n",
    "import random\n",
    "import pandas as pd\n",
    "import seaborn as sns\n",
    "from datetime import datetime\n",
    "from sklearn.preprocessing import MinMaxScaler\n",
    "\n",
    "import matplotlib.pyplot as plt\n",
    "plt.rc('font', size=16)\n",
    "\n",
    "import warnings\n",
    "warnings.filterwarnings('ignore')\n",
    "tf.get_logger().setLevel('ERROR')\n",
    "\n",
    "tfk = tf.keras\n",
    "tfkl = tf.keras.layers"
   ]
  },
  {
   "cell_type": "code",
   "execution_count": null,
   "id": "1b4f960b",
   "metadata": {
    "execution": {
     "iopub.execute_input": "2021-12-22T13:24:36.648182Z",
     "iopub.status.busy": "2021-12-22T13:24:36.647391Z",
     "iopub.status.idle": "2021-12-22T13:24:36.649303Z",
     "shell.execute_reply": "2021-12-22T13:24:36.649751Z",
     "shell.execute_reply.started": "2021-12-13T22:23:54.631557Z"
    },
    "papermill": {
     "duration": 0.029368,
     "end_time": "2021-12-22T13:24:36.649894",
     "exception": false,
     "start_time": "2021-12-22T13:24:36.620526",
     "status": "completed"
    },
    "tags": []
   },
   "outputs": [],
   "source": [
    "# Random seed for reproducibility\n",
    "seed = 42\n",
    "\n",
    "random.seed(seed)\n",
    "os.environ['PYTHONHASHSEED'] = str(seed)\n",
    "np.random.seed(seed)\n",
    "tf.random.set_seed(seed)\n",
    "tf.compat.v1.set_random_seed(seed)"
   ]
  },
  {
   "cell_type": "code",
   "execution_count": null,
   "id": "03a0426c",
   "metadata": {
    "execution": {
     "iopub.execute_input": "2021-12-22T13:24:36.697736Z",
     "iopub.status.busy": "2021-12-22T13:24:36.697017Z",
     "iopub.status.idle": "2021-12-22T13:24:36.698936Z",
     "shell.execute_reply": "2021-12-22T13:24:36.699300Z"
    },
    "papermill": {
     "duration": 0.027385,
     "end_time": "2021-12-22T13:24:36.699438",
     "exception": false,
     "start_time": "2021-12-22T13:24:36.672053",
     "status": "completed"
    },
    "tags": []
   },
   "outputs": [],
   "source": [
    "# Enable/disable test mode\n",
    "test_mode = True"
   ]
  },
  {
   "cell_type": "markdown",
   "id": "fb674a03",
   "metadata": {
    "papermill": {
     "duration": 0.02194,
     "end_time": "2021-12-22T13:24:36.743337",
     "exception": false,
     "start_time": "2021-12-22T13:24:36.721397",
     "status": "completed"
    },
    "tags": []
   },
   "source": [
    "## Import and visualize the dataset"
   ]
  },
  {
   "cell_type": "code",
   "execution_count": null,
   "id": "4c642598",
   "metadata": {
    "execution": {
     "iopub.execute_input": "2021-12-22T13:24:36.790778Z",
     "iopub.status.busy": "2021-12-22T13:24:36.789908Z",
     "iopub.status.idle": "2021-12-22T13:24:37.086387Z",
     "shell.execute_reply": "2021-12-22T13:24:37.086836Z",
     "shell.execute_reply.started": "2021-12-13T22:23:54.638599Z"
    },
    "papermill": {
     "duration": 0.321588,
     "end_time": "2021-12-22T13:24:37.086989",
     "exception": false,
     "start_time": "2021-12-22T13:24:36.765401",
     "status": "completed"
    },
    "tags": []
   },
   "outputs": [],
   "source": [
    "# Set the path to the dataset\n",
    "dataset = pd.read_csv('../input/homework2/Training.csv')\n",
    "#dataset = pd.read_csv('../input/Training.csv')\n",
    "print(dataset.shape) \n",
    "dataset.head().transpose()"
   ]
  },
  {
   "cell_type": "code",
   "execution_count": null,
   "id": "aa442ae4",
   "metadata": {
    "execution": {
     "iopub.execute_input": "2021-12-22T13:24:37.143140Z",
     "iopub.status.busy": "2021-12-22T13:24:37.142329Z",
     "iopub.status.idle": "2021-12-22T13:24:37.152858Z",
     "shell.execute_reply": "2021-12-22T13:24:37.152438Z",
     "shell.execute_reply.started": "2021-12-13T22:23:54.871969Z"
    },
    "papermill": {
     "duration": 0.04123,
     "end_time": "2021-12-22T13:24:37.152970",
     "exception": false,
     "start_time": "2021-12-22T13:24:37.111740",
     "status": "completed"
    },
    "tags": []
   },
   "outputs": [],
   "source": [
    "dataset.head()"
   ]
  },
  {
   "cell_type": "code",
   "execution_count": null,
   "id": "326651c7",
   "metadata": {
    "execution": {
     "iopub.execute_input": "2021-12-22T13:24:37.203964Z",
     "iopub.status.busy": "2021-12-22T13:24:37.203148Z",
     "iopub.status.idle": "2021-12-22T13:24:37.221278Z",
     "shell.execute_reply": "2021-12-22T13:24:37.221752Z",
     "shell.execute_reply.started": "2021-12-13T22:23:54.889884Z"
    },
    "papermill": {
     "duration": 0.045444,
     "end_time": "2021-12-22T13:24:37.221883",
     "exception": false,
     "start_time": "2021-12-22T13:24:37.176439",
     "status": "completed"
    },
    "tags": []
   },
   "outputs": [],
   "source": [
    "dataset.info()"
   ]
  },
  {
   "cell_type": "code",
   "execution_count": null,
   "id": "ba1c30d2",
   "metadata": {
    "execution": {
     "iopub.execute_input": "2021-12-22T13:24:37.277978Z",
     "iopub.status.busy": "2021-12-22T13:24:37.277238Z",
     "iopub.status.idle": "2021-12-22T13:24:38.195520Z",
     "shell.execute_reply": "2021-12-22T13:24:38.195940Z",
     "shell.execute_reply.started": "2021-12-13T22:23:54.912539Z"
    },
    "papermill": {
     "duration": 0.950368,
     "end_time": "2021-12-22T13:24:38.196086",
     "exception": false,
     "start_time": "2021-12-22T13:24:37.245718",
     "status": "completed"
    },
    "tags": []
   },
   "outputs": [],
   "source": [
    "def inspect_dataframe(df, columns):\n",
    "    figs, axs = plt.subplots(len(columns), 1, sharex=True, figsize=(17,17))\n",
    "    for i, col in enumerate(columns):\n",
    "        axs[i].plot(df[col])\n",
    "        axs[i].set_title(col)\n",
    "    plt.show()\n",
    "inspect_dataframe(dataset, dataset.columns)"
   ]
  },
  {
   "cell_type": "markdown",
   "id": "3fdce2eb",
   "metadata": {
    "papermill": {
     "duration": 0.028626,
     "end_time": "2021-12-22T13:24:38.253680",
     "exception": false,
     "start_time": "2021-12-22T13:24:38.225054",
     "status": "completed"
    },
    "tags": []
   },
   "source": [
    "# Data preprocessing"
   ]
  },
  {
   "cell_type": "code",
   "execution_count": null,
   "id": "a11c72b7",
   "metadata": {
    "execution": {
     "iopub.execute_input": "2021-12-22T13:24:38.317398Z",
     "iopub.status.busy": "2021-12-22T13:24:38.316604Z",
     "iopub.status.idle": "2021-12-22T13:24:38.326937Z",
     "shell.execute_reply": "2021-12-22T13:24:38.326485Z",
     "shell.execute_reply.started": "2021-12-13T22:23:55.862103Z"
    },
    "papermill": {
     "duration": 0.044811,
     "end_time": "2021-12-22T13:24:38.327048",
     "exception": false,
     "start_time": "2021-12-22T13:24:38.282237",
     "status": "completed"
    },
    "tags": []
   },
   "outputs": [],
   "source": [
    "if(test_mode):\n",
    "    test_size = 10000\n",
    "    X_train_raw = dataset.iloc[:-test_size]\n",
    "    X_test_raw = dataset.iloc[-test_size:]\n",
    "else:\n",
    "    X_train_raw = dataset\n",
    "\n",
    "# y_train_raw = y.iloc[:-test_size]\n",
    "# Normalize both features and labels\n",
    "X_min = X_train_raw.min()\n",
    "X_max = X_train_raw.max()\n",
    "\n",
    "X_train_raw = (X_train_raw-X_min)/(X_max-X_min)\n",
    "\n",
    "if(test_mode):\n",
    "    # y_test_raw = y.iloc[-test_size:]\n",
    "    X_test_raw = (X_test_raw-X_min)/(X_max-X_min)\n",
    "\n"
   ]
  },
  {
   "cell_type": "markdown",
   "id": "86f13fea",
   "metadata": {
    "papermill": {
     "duration": 0.028481,
     "end_time": "2021-12-22T13:24:38.384304",
     "exception": false,
     "start_time": "2021-12-22T13:24:38.355823",
     "status": "completed"
    },
    "tags": []
   },
   "source": [
    "## Extracting sequences from the dataset"
   ]
  },
  {
   "cell_type": "code",
   "execution_count": null,
   "id": "da691f92",
   "metadata": {
    "execution": {
     "iopub.execute_input": "2021-12-22T13:24:38.451784Z",
     "iopub.status.busy": "2021-12-22T13:24:38.450202Z",
     "iopub.status.idle": "2021-12-22T13:24:38.452382Z",
     "shell.execute_reply": "2021-12-22T13:24:38.452828Z",
     "shell.execute_reply.started": "2021-12-13T22:30:08.410857Z"
    },
    "papermill": {
     "duration": 0.040136,
     "end_time": "2021-12-22T13:24:38.452957",
     "exception": false,
     "start_time": "2021-12-22T13:24:38.412821",
     "status": "completed"
    },
    "tags": []
   },
   "outputs": [],
   "source": [
    "def build_sequences(df, target_labels, window, stride, telescope):\n",
    "    # Sanity check to avoid runtime errors\n",
    "    assert window % stride == 0\n",
    "    dataset = []\n",
    "    labels = []\n",
    "    temp_df = df.copy().values\n",
    "    temp_label = df[target_labels].copy().values\n",
    "    padding_len = len(df)%window\n",
    "\n",
    "    if(padding_len != 0):\n",
    "        # Compute padding length\n",
    "        padding_len = window - len(df)%window\n",
    "        padding = np.zeros((padding_len,temp_df.shape[1]), dtype='float32')#float32\n",
    "        temp_df = np.concatenate((padding,df))\n",
    "        padding = np.zeros((padding_len,temp_label.shape[1]), dtype='float32')\n",
    "        temp_label = np.concatenate((padding,temp_label))\n",
    "        assert len(temp_df) % window == 0\n",
    "\n",
    "    for idx in np.arange(0,len(temp_df)-window-telescope,stride):\n",
    "        dataset.append(temp_df[idx:idx+window])\n",
    "        labels.append(temp_label[idx+window:idx+window+telescope])\n",
    "\n",
    "    dataset = np.array(dataset)\n",
    "    labels = np.array(labels)\n",
    "    return dataset, labels"
   ]
  },
  {
   "cell_type": "code",
   "execution_count": null,
   "id": "502fb4cf",
   "metadata": {
    "execution": {
     "iopub.execute_input": "2021-12-22T13:24:38.514862Z",
     "iopub.status.busy": "2021-12-22T13:24:38.513329Z",
     "iopub.status.idle": "2021-12-22T13:24:38.515485Z",
     "shell.execute_reply": "2021-12-22T13:24:38.515904Z",
     "shell.execute_reply.started": "2021-12-13T22:23:55.882468Z"
    },
    "papermill": {
     "duration": 0.034796,
     "end_time": "2021-12-22T13:24:38.516026",
     "exception": false,
     "start_time": "2021-12-22T13:24:38.481230",
     "status": "completed"
    },
    "tags": []
   },
   "outputs": [],
   "source": [
    "target_labels = dataset.columns\n",
    "window = 200\n",
    "stride = 5\n",
    "telescope = 1"
   ]
  },
  {
   "cell_type": "code",
   "execution_count": null,
   "id": "b621bf0b",
   "metadata": {
    "execution": {
     "iopub.execute_input": "2021-12-22T13:24:38.579359Z",
     "iopub.status.busy": "2021-12-22T13:24:38.578525Z",
     "iopub.status.idle": "2021-12-22T13:24:38.582267Z",
     "shell.execute_reply": "2021-12-22T13:24:38.581850Z"
    },
    "papermill": {
     "duration": 0.038059,
     "end_time": "2021-12-22T13:24:38.582367",
     "exception": false,
     "start_time": "2021-12-22T13:24:38.544308",
     "status": "completed"
    },
    "tags": []
   },
   "outputs": [],
   "source": [
    "future = dataset[-window:]\n",
    "future = (future-X_min)/(X_max-X_min)\n",
    "future = np.expand_dims(future, axis=0)\n",
    "future.shape"
   ]
  },
  {
   "cell_type": "code",
   "execution_count": null,
   "id": "de78cc4a",
   "metadata": {
    "execution": {
     "iopub.execute_input": "2021-12-22T13:24:38.644926Z",
     "iopub.status.busy": "2021-12-22T13:24:38.644051Z",
     "iopub.status.idle": "2021-12-22T13:24:38.757647Z",
     "shell.execute_reply": "2021-12-22T13:24:38.756984Z",
     "shell.execute_reply.started": "2021-12-13T22:30:14.235497Z"
    },
    "papermill": {
     "duration": 0.146771,
     "end_time": "2021-12-22T13:24:38.757809",
     "exception": false,
     "start_time": "2021-12-22T13:24:38.611038",
     "status": "completed"
    },
    "tags": []
   },
   "outputs": [],
   "source": [
    "X_train, y_train = build_sequences(X_train_raw, target_labels, window, stride, telescope)\n",
    "print(X_train.shape, y_train.shape)\n",
    "\n",
    "if(test_mode):\n",
    "    X_test, y_test = build_sequences(X_test_raw, target_labels, window, stride, telescope)\n",
    "    print(X_test.shape, y_test.shape)"
   ]
  },
  {
   "cell_type": "code",
   "execution_count": null,
   "id": "2d7a7abf",
   "metadata": {
    "execution": {
     "iopub.execute_input": "2021-12-22T13:24:38.824649Z",
     "iopub.status.busy": "2021-12-22T13:24:38.823869Z",
     "iopub.status.idle": "2021-12-22T13:24:38.826287Z",
     "shell.execute_reply": "2021-12-22T13:24:38.825888Z",
     "shell.execute_reply.started": "2021-12-13T22:30:19.452369Z"
    },
    "papermill": {
     "duration": 0.038691,
     "end_time": "2021-12-22T13:24:38.826398",
     "exception": false,
     "start_time": "2021-12-22T13:24:38.787707",
     "status": "completed"
    },
    "tags": []
   },
   "outputs": [],
   "source": [
    "def inspect_multivariate(X, y, columns, telescope, idx=None):\n",
    "    if(idx==None):\n",
    "        idx=np.random.randint(0,len(X))\n",
    "\n",
    "    figs, axs = plt.subplots(len(columns), 1, sharex=True, figsize=(17,17))\n",
    "    for i, col in enumerate(columns):\n",
    "        axs[i].plot(np.arange(len(X[0,:,i])), X[idx,:,i])\n",
    "        axs[i].scatter(np.arange(len(X[0,:,i]), len(X_train[0,:,i])+telescope), y[idx,:,i], color='orange')\n",
    "        axs[i].set_title(col)\n",
    "        axs[i].set_ylim(0,1)\n",
    "    plt.show()"
   ]
  },
  {
   "cell_type": "code",
   "execution_count": null,
   "id": "deb60275",
   "metadata": {
    "execution": {
     "iopub.execute_input": "2021-12-22T13:24:38.890175Z",
     "iopub.status.busy": "2021-12-22T13:24:38.889390Z",
     "iopub.status.idle": "2021-12-22T13:24:39.671059Z",
     "shell.execute_reply": "2021-12-22T13:24:39.671469Z",
     "shell.execute_reply.started": "2021-12-13T22:30:25.693661Z"
    },
    "papermill": {
     "duration": 0.816433,
     "end_time": "2021-12-22T13:24:39.671614",
     "exception": false,
     "start_time": "2021-12-22T13:24:38.855181",
     "status": "completed"
    },
    "tags": []
   },
   "outputs": [],
   "source": [
    "inspect_multivariate(X_train, y_train, target_labels, telescope)"
   ]
  },
  {
   "cell_type": "markdown",
   "id": "41e74ff5",
   "metadata": {
    "papermill": {
     "duration": 0.031947,
     "end_time": "2021-12-22T13:24:39.735952",
     "exception": false,
     "start_time": "2021-12-22T13:24:39.704005",
     "status": "completed"
    },
    "tags": []
   },
   "source": [
    "# Train the model"
   ]
  },
  {
   "cell_type": "code",
   "execution_count": null,
   "id": "b3a8f7bb",
   "metadata": {
    "execution": {
     "iopub.execute_input": "2021-12-22T13:24:39.805473Z",
     "iopub.status.busy": "2021-12-22T13:24:39.804934Z",
     "iopub.status.idle": "2021-12-22T13:24:39.808653Z",
     "shell.execute_reply": "2021-12-22T13:24:39.808215Z",
     "shell.execute_reply.started": "2021-12-13T22:39:51.376304Z"
    },
    "papermill": {
     "duration": 0.040549,
     "end_time": "2021-12-22T13:24:39.808769",
     "exception": false,
     "start_time": "2021-12-22T13:24:39.768220",
     "status": "completed"
    },
    "tags": []
   },
   "outputs": [],
   "source": [
    "input_shape = X_train.shape[1:]\n",
    "output_shape = y_train.shape[1:]\n",
    "print(y_train.shape)\n",
    "\n",
    "batch_size = 128\n",
    "epochs = 200\n",
    "\n",
    "model_name = 'seq2seq'"
   ]
  },
  {
   "cell_type": "code",
   "execution_count": null,
   "id": "b663b07d",
   "metadata": {
    "execution": {
     "iopub.execute_input": "2021-12-22T13:24:39.881504Z",
     "iopub.status.busy": "2021-12-22T13:24:39.880852Z",
     "iopub.status.idle": "2021-12-22T13:24:39.883428Z",
     "shell.execute_reply": "2021-12-22T13:24:39.882998Z",
     "shell.execute_reply.started": "2021-12-13T22:42:08.668724Z"
    },
    "papermill": {
     "duration": 0.042277,
     "end_time": "2021-12-22T13:24:39.883544",
     "exception": false,
     "start_time": "2021-12-22T13:24:39.841267",
     "status": "completed"
    },
    "tags": []
   },
   "outputs": [],
   "source": [
    "def build_model(input_shape ,output_shape):\n",
    "    #create model\n",
    "    model = tfk.Sequential()\n",
    "\n",
    "    # encoder\n",
    "    model.add(tfkl.LSTM(128, input_shape=input_shape, return_sequences=True))\n",
    "    model.add(tfkl.LSTM(64, return_sequences=True))\n",
    "    model.add(tfkl.LSTM(32))\n",
    "\n",
    "    # feature vector\n",
    "    model.add(tfkl.RepeatVector(output_shape[0]))\n",
    "\n",
    "    # decoder\n",
    "    model.add(tfkl.LSTM(128, return_sequences=True))\n",
    "    model.add(tfkl.LSTM(64, return_sequences=True))\n",
    "    model.add(tfkl.TimeDistributed(tfkl.Dense(1)))\n",
    "\n",
    "    model.compile(loss=tfk.losses.MeanSquaredError(), optimizer=tfk.optimizers.Adam(), metrics=['mae'])\n",
    "\n",
    "\n",
    "    return model\n"
   ]
  },
  {
   "cell_type": "code",
   "execution_count": null,
   "id": "892f18eb",
   "metadata": {
    "execution": {
     "iopub.execute_input": "2021-12-22T13:24:39.954014Z",
     "iopub.status.busy": "2021-12-22T13:24:39.953240Z",
     "iopub.status.idle": "2021-12-22T13:24:44.936548Z",
     "shell.execute_reply": "2021-12-22T13:24:44.937603Z",
     "shell.execute_reply.started": "2021-12-13T22:42:13.846318Z"
    },
    "papermill": {
     "duration": 5.021462,
     "end_time": "2021-12-22T13:24:44.937809",
     "exception": false,
     "start_time": "2021-12-22T13:24:39.916347",
     "status": "completed"
    },
    "tags": []
   },
   "outputs": [],
   "source": [
    "model = build_model(input_shape, output_shape)\n",
    "model.summary()\n",
    "tfk.utils.plot_model(model, expand_nested=True)"
   ]
  },
  {
   "cell_type": "code",
   "execution_count": null,
   "id": "e15eb9ca",
   "metadata": {
    "execution": {
     "iopub.execute_input": "2021-12-22T13:24:45.068530Z",
     "iopub.status.busy": "2021-12-22T13:24:45.067776Z",
     "iopub.status.idle": "2021-12-22T13:49:50.140526Z",
     "shell.execute_reply": "2021-12-22T13:49:50.141022Z"
    },
    "papermill": {
     "duration": 1505.14387,
     "end_time": "2021-12-22T13:49:50.141191",
     "exception": false,
     "start_time": "2021-12-22T13:24:44.997321",
     "status": "completed"
    },
    "tags": []
   },
   "outputs": [],
   "source": [
    "# Train the model\n",
    "history = model.fit(\n",
    "    x = X_train,\n",
    "    y = y_train,\n",
    "    batch_size = batch_size,\n",
    "    epochs = epochs,\n",
    "    validation_split=.15,\n",
    "    callbacks = [\n",
    "        tfk.callbacks.EarlyStopping(monitor='val_loss', mode='min', patience=10, restore_best_weights=True),\n",
    "        tfk.callbacks.ReduceLROnPlateau(monitor='val_loss', mode='min', patience=5, factor=0.5, min_lr=1e-5)\n",
    "    ]\n",
    ").history"
   ]
  },
  {
   "cell_type": "code",
   "execution_count": null,
   "id": "94048f47",
   "metadata": {
    "execution": {
     "iopub.execute_input": "2021-12-22T13:49:54.402196Z",
     "iopub.status.busy": "2021-12-22T13:49:54.401322Z",
     "iopub.status.idle": "2021-12-22T13:50:44.940593Z",
     "shell.execute_reply": "2021-12-22T13:50:44.940042Z"
    },
    "papermill": {
     "duration": 52.535567,
     "end_time": "2021-12-22T13:50:44.940752",
     "exception": false,
     "start_time": "2021-12-22T13:49:52.405185",
     "status": "completed"
    },
    "tags": []
   },
   "outputs": [],
   "source": [
    "exp_dir = ''\n",
    "model.save(os.path.join(exp_dir, model_name))"
   ]
  },
  {
   "cell_type": "markdown",
   "id": "8ab01bea",
   "metadata": {
    "papermill": {
     "duration": 1.995992,
     "end_time": "2021-12-22T13:50:49.329778",
     "exception": false,
     "start_time": "2021-12-22T13:50:47.333786",
     "status": "completed"
    },
    "tags": []
   },
   "source": [
    "# Analyze the results"
   ]
  },
  {
   "cell_type": "code",
   "execution_count": null,
   "id": "088edfff",
   "metadata": {
    "execution": {
     "iopub.execute_input": "2021-12-22T13:50:53.329046Z",
     "iopub.status.busy": "2021-12-22T13:50:53.328145Z",
     "iopub.status.idle": "2021-12-22T13:50:55.366552Z",
     "shell.execute_reply": "2021-12-22T13:50:55.365948Z",
     "shell.execute_reply.started": "2021-12-13T22:23:56.138566Z"
    },
    "papermill": {
     "duration": 4.045542,
     "end_time": "2021-12-22T13:50:55.366679",
     "exception": false,
     "start_time": "2021-12-22T13:50:51.321137",
     "status": "completed"
    },
    "tags": []
   },
   "outputs": [],
   "source": [
    "# Plot loss, accuracy and learning rate\n",
    "best_epoch = np.argmin(history['val_loss'])\n",
    "\n",
    "plt.figure(figsize=(17,4))\n",
    "plt.plot(history['loss'], label='Training loss', alpha=.8, color='#ff7f0e')\n",
    "plt.plot(history['val_loss'], label='Validation loss', alpha=.9, color='#5a9aa5')\n",
    "plt.axvline(x=best_epoch, label='Best epoch', alpha=.3, ls='--', color='#5a9aa5')\n",
    "plt.title('Mean Squared Error (Loss)')\n",
    "plt.legend()\n",
    "plt.grid(alpha=.3)\n",
    "plt.show()\n",
    "\n",
    "plt.figure(figsize=(17,4))\n",
    "plt.plot(history['mae'], label='Training accuracy', alpha=.8, color='#ff7f0e')\n",
    "plt.plot(history['val_mae'], label='Validation accuracy', alpha=.9, color='#5a9aa5')\n",
    "plt.axvline(x=best_epoch, label='Best epoch', alpha=.3, ls='--', color='#5a9aa5')\n",
    "plt.title('Mean Absolute Error')\n",
    "plt.legend()\n",
    "plt.grid(alpha=.3)\n",
    "plt.show()\n",
    "\n",
    "plt.figure(figsize=(18,3))\n",
    "plt.plot(history['lr'], label='Learning Rate', alpha=.8, color='#ff7f0e')\n",
    "plt.axvline(x=best_epoch, label='Best epoch', alpha=.3, ls='--', color='#5a9aa5')\n",
    "plt.legend()\n",
    "plt.grid(alpha=.3)\n",
    "plt.show()"
   ]
  },
  {
   "cell_type": "code",
   "execution_count": null,
   "id": "9999936d",
   "metadata": {
    "execution": {
     "iopub.execute_input": "2021-12-22T13:50:59.672537Z",
     "iopub.status.busy": "2021-12-22T13:50:59.671398Z",
     "iopub.status.idle": "2021-12-22T13:51:03.570052Z",
     "shell.execute_reply": "2021-12-22T13:51:03.571047Z",
     "shell.execute_reply.started": "2021-12-13T22:23:56.140552Z"
    },
    "papermill": {
     "duration": 5.896689,
     "end_time": "2021-12-22T13:51:03.571245",
     "exception": false,
     "start_time": "2021-12-22T13:50:57.674556",
     "status": "completed"
    },
    "tags": []
   },
   "outputs": [],
   "source": [
    "# Predict the test set \n",
    "if(test_mode):\n",
    "    predictions = model.predict(X_test)\n",
    "    print(predictions.shape)\n",
    "\n",
    "    mean_squared_error = tfk.metrics.mse(y_test.flatten(),predictions.flatten())\n",
    "    mean_absolute_error = tfk.metrics.mae(y_test.flatten(),predictions.flatten())\n",
    "    print(mean_squared_error, mean_absolute_error)"
   ]
  },
  {
   "cell_type": "code",
   "execution_count": null,
   "id": "3bcec035",
   "metadata": {
    "execution": {
     "iopub.execute_input": "2021-12-22T13:51:07.639948Z",
     "iopub.status.busy": "2021-12-22T13:51:07.634233Z",
     "iopub.status.idle": "2021-12-22T13:51:07.651131Z",
     "shell.execute_reply": "2021-12-22T13:51:07.651824Z",
     "shell.execute_reply.started": "2021-12-13T22:23:56.142118Z"
    },
    "papermill": {
     "duration": 2.085449,
     "end_time": "2021-12-22T13:51:07.652031",
     "exception": false,
     "start_time": "2021-12-22T13:51:05.566582",
     "status": "completed"
    },
    "tags": []
   },
   "outputs": [],
   "source": [
    "def inspect_multivariate_prediction(X, y, pred, columns, telescope, idx=None):\n",
    "    if(idx==None):\n",
    "        idx=np.random.randint(0,len(X))\n",
    "\n",
    "    figs, axs = plt.subplots(len(columns), 1, sharex=True, figsize=(17,17))\n",
    "    for i, col in enumerate(columns):\n",
    "        axs[i].plot(np.arange(len(X[0,:,i])), X[idx,:,i])\n",
    "        axs[i].plot(np.arange(len(X[0,:,i]), len(X_train[0,:,i])+telescope), y[idx,:,i], color='orange')\n",
    "        axs[i].plot(np.arange(len(X[0,:,i]), len(X_train[0,:,i])+telescope), pred[idx,:,i], color='green')\n",
    "        axs[i].set_title(col)\n",
    "        axs[i].set_ylim(0,1)\n",
    "    plt.show()"
   ]
  },
  {
   "cell_type": "code",
   "execution_count": null,
   "id": "2bc1481a",
   "metadata": {
    "execution": {
     "iopub.execute_input": "2021-12-22T13:51:11.808068Z",
     "iopub.status.busy": "2021-12-22T13:51:11.807234Z",
     "iopub.status.idle": "2021-12-22T13:51:12.472257Z",
     "shell.execute_reply": "2021-12-22T13:51:12.472683Z",
     "shell.execute_reply.started": "2021-12-13T22:23:56.143775Z"
    },
    "papermill": {
     "duration": 2.698403,
     "end_time": "2021-12-22T13:51:12.472832",
     "exception": false,
     "start_time": "2021-12-22T13:51:09.774429",
     "status": "completed"
    },
    "tags": []
   },
   "outputs": [],
   "source": [
    "if(test_mode):\n",
    "    inspect_multivariate_prediction(X_test, y_test, predictions, target_labels, telescope)"
   ]
  },
  {
   "cell_type": "code",
   "execution_count": null,
   "id": "10ff44e2",
   "metadata": {
    "execution": {
     "iopub.execute_input": "2021-12-22T13:51:16.450497Z",
     "iopub.status.busy": "2021-12-22T13:51:16.449642Z",
     "iopub.status.idle": "2021-12-22T14:00:13.551334Z",
     "shell.execute_reply": "2021-12-22T14:00:13.550848Z"
    },
    "papermill": {
     "duration": 539.070312,
     "end_time": "2021-12-22T14:00:13.551497",
     "exception": false,
     "start_time": "2021-12-22T13:51:14.481185",
     "status": "completed"
    },
    "tags": []
   },
   "outputs": [],
   "source": [
    "if(test_mode):\n",
    "    reg_telescope = 216 # 864/4, 864 is too high\n",
    "    X_test_reg, y_test_reg = build_sequences(X_test_raw, target_labels, window, stride, reg_telescope)\n",
    "    print(X_test_reg.shape, y_test_reg.shape)\n",
    "\n",
    "    # Autoregressive Forecasting\n",
    "    reg_predictions = np.array([])\n",
    "    X_temp = X_test_reg\n",
    "    for reg in range(0,reg_telescope,telescope):\n",
    "        pred_temp = model.predict(X_temp)\n",
    "        if(len(reg_predictions)==0):\n",
    "            reg_predictions = pred_temp\n",
    "        else:\n",
    "            reg_predictions = np.concatenate((reg_predictions,pred_temp),axis=1)\n",
    "        X_temp = np.concatenate((X_temp[:,telescope:,:],pred_temp), axis=1)"
   ]
  },
  {
   "cell_type": "code",
   "execution_count": null,
   "id": "375ce5c7",
   "metadata": {
    "execution": {
     "iopub.execute_input": "2021-12-22T14:00:18.244981Z",
     "iopub.status.busy": "2021-12-22T14:00:18.243390Z",
     "iopub.status.idle": "2021-12-22T14:00:18.247300Z",
     "shell.execute_reply": "2021-12-22T14:00:18.246863Z"
    },
    "papermill": {
     "duration": 2.224295,
     "end_time": "2021-12-22T14:00:18.247428",
     "exception": false,
     "start_time": "2021-12-22T14:00:16.023133",
     "status": "completed"
    },
    "tags": []
   },
   "outputs": [],
   "source": [
    "if(test_mode):\n",
    "    print(reg_predictions.shape)"
   ]
  },
  {
   "cell_type": "code",
   "execution_count": null,
   "id": "fed3a1fb",
   "metadata": {
    "execution": {
     "iopub.execute_input": "2021-12-22T14:00:22.265375Z",
     "iopub.status.busy": "2021-12-22T14:00:22.263998Z",
     "iopub.status.idle": "2021-12-22T14:00:22.332802Z",
     "shell.execute_reply": "2021-12-22T14:00:22.333438Z"
    },
    "papermill": {
     "duration": 2.095582,
     "end_time": "2021-12-22T14:00:22.333670",
     "exception": false,
     "start_time": "2021-12-22T14:00:20.238088",
     "status": "completed"
    },
    "tags": []
   },
   "outputs": [],
   "source": [
    "if(test_mode):\n",
    "    mean_squared_error = tfk.metrics.mse(y_test_reg.flatten(),reg_predictions.flatten())\n",
    "    mean_absolute_error = tfk.metrics.mae(y_test_reg.flatten(),reg_predictions.flatten())\n",
    "    print(mean_squared_error, mean_absolute_error)"
   ]
  },
  {
   "cell_type": "code",
   "execution_count": null,
   "id": "9fa4923a",
   "metadata": {
    "execution": {
     "iopub.execute_input": "2021-12-22T14:00:26.220227Z",
     "iopub.status.busy": "2021-12-22T14:00:26.218874Z",
     "iopub.status.idle": "2021-12-22T14:00:26.873801Z",
     "shell.execute_reply": "2021-12-22T14:00:26.874198Z"
    },
    "papermill": {
     "duration": 2.594171,
     "end_time": "2021-12-22T14:00:26.874363",
     "exception": false,
     "start_time": "2021-12-22T14:00:24.280192",
     "status": "completed"
    },
    "tags": []
   },
   "outputs": [],
   "source": [
    "if(test_mode):\n",
    "    inspect_multivariate_prediction(X_test_reg, y_test_reg, reg_predictions, target_labels, reg_telescope)"
   ]
  },
  {
   "cell_type": "code",
   "execution_count": null,
   "id": "e97de64a",
   "metadata": {
    "execution": {
     "iopub.execute_input": "2021-12-22T14:00:31.180301Z",
     "iopub.status.busy": "2021-12-22T14:00:31.179651Z",
     "iopub.status.idle": "2021-12-22T14:00:31.182668Z",
     "shell.execute_reply": "2021-12-22T14:00:31.182092Z",
     "shell.execute_reply.started": "2021-12-13T22:23:56.14515Z"
    },
    "papermill": {
     "duration": 2.079893,
     "end_time": "2021-12-22T14:00:31.182786",
     "exception": false,
     "start_time": "2021-12-22T14:00:29.102893",
     "status": "completed"
    },
    "tags": []
   },
   "outputs": [],
   "source": [
    "if(test_mode):\n",
    "    maes = []\n",
    "    for i in range(predictions.shape[1]):\n",
    "        ft_maes = []\n",
    "        for j in range(predictions.shape[2]):\n",
    "            ft_maes.append(np.mean(np.abs(y_test[:,i,j]-predictions[:,i,j]), axis=0))\n",
    "        ft_maes = np.array(ft_maes)\n",
    "        maes.append(ft_maes)\n",
    "    maes = np.array(maes)"
   ]
  },
  {
   "cell_type": "code",
   "execution_count": null,
   "id": "1159a894",
   "metadata": {
    "execution": {
     "iopub.execute_input": "2021-12-22T14:00:35.133736Z",
     "iopub.status.busy": "2021-12-22T14:00:35.132816Z",
     "iopub.status.idle": "2021-12-22T14:00:35.207380Z",
     "shell.execute_reply": "2021-12-22T14:00:35.208514Z",
     "shell.execute_reply.started": "2021-12-13T22:23:56.146524Z"
    },
    "papermill": {
     "duration": 2.079424,
     "end_time": "2021-12-22T14:00:35.208722",
     "exception": false,
     "start_time": "2021-12-22T14:00:33.129298",
     "status": "completed"
    },
    "tags": []
   },
   "outputs": [],
   "source": [
    "if(test_mode):\n",
    "    future_predictions = model.predict(future)\n",
    "    print(future_predictions.shape)"
   ]
  },
  {
   "cell_type": "code",
   "execution_count": null,
   "id": "821e5d6b",
   "metadata": {
    "execution": {
     "iopub.execute_input": "2021-12-22T14:00:39.240702Z",
     "iopub.status.busy": "2021-12-22T14:00:39.239840Z",
     "iopub.status.idle": "2021-12-22T14:00:40.270091Z",
     "shell.execute_reply": "2021-12-22T14:00:40.270509Z",
     "shell.execute_reply.started": "2021-12-13T22:23:56.1479Z"
    },
    "papermill": {
     "duration": 3.031836,
     "end_time": "2021-12-22T14:00:40.270661",
     "exception": false,
     "start_time": "2021-12-22T14:00:37.238825",
     "status": "completed"
    },
    "tags": []
   },
   "outputs": [],
   "source": [
    "if(test_mode):\n",
    "    figs, axs = plt.subplots(len(target_labels), 1, sharex=True, figsize=(17,17))\n",
    "    for i, col in enumerate(target_labels):\n",
    "        axs[i].plot(np.arange(len(future[0,:,i])), future[0,:,i])\n",
    "        axs[i].plot(np.arange(len(future[0,:,i]), len(future[0,:,i])+telescope), future_predictions[0,:,i], color='orange')\n",
    "        axs[i].fill_between(\n",
    "            np.arange(len(future[0,:,i]), len(future[0,:,i])+telescope), \n",
    "            future_predictions[0,:,i]+maes[:,i], \n",
    "            future_predictions[0,:,i]-maes[:,i], \n",
    "            color='orange', alpha=.3)\n",
    "        axs[i].set_title(col)\n",
    "        # axs[i].set_ylim(0,1)\n",
    "    plt.show()"
   ]
  }
 ],
 "metadata": {
  "kernelspec": {
   "display_name": "Python 3",
   "language": "python",
   "name": "python3"
  },
  "language_info": {
   "codemirror_mode": {
    "name": "ipython",
    "version": 3
   },
   "file_extension": ".py",
   "mimetype": "text/x-python",
   "name": "python",
   "nbconvert_exporter": "python",
   "pygments_lexer": "ipython3",
   "version": "3.10.1"
  },
  "papermill": {
   "default_parameters": {},
   "duration": 2182.532706,
   "end_time": "2021-12-22T14:00:45.424209",
   "environment_variables": {},
   "exception": null,
   "input_path": "__notebook__.ipynb",
   "output_path": "__notebook__.ipynb",
   "parameters": {},
   "start_time": "2021-12-22T13:24:22.891503",
   "version": "2.3.3"
  }
 },
 "nbformat": 4,
 "nbformat_minor": 5
}
