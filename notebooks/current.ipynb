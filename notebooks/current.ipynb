{
 "cells": [
  {
   "cell_type": "markdown",
   "id": "2aa13029",
   "metadata": {
    "papermill": {
     "duration": 0.038466,
     "end_time": "2022-01-08T11:32:58.647628",
     "exception": false,
     "start_time": "2022-01-08T11:32:58.609162",
     "status": "completed"
    },
    "tags": []
   },
   "source": [
    "# Initialization"
   ]
  },
  {
   "cell_type": "code",
   "execution_count": null,
   "id": "2b3478f6",
   "metadata": {
    "_cell_guid": "b1076dfc-b9ad-4769-8c92-a6c4dae69d19",
    "_uuid": "8f2839f25d086af736a60e9eeb907d3b93b6e0e5",
    "execution": {
     "iopub.execute_input": "2022-01-08T11:32:58.744466Z",
     "iopub.status.busy": "2022-01-08T11:32:58.742532Z",
     "iopub.status.idle": "2022-01-08T11:33:04.242401Z",
     "shell.execute_reply": "2022-01-08T11:33:04.242849Z",
     "shell.execute_reply.started": "2021-12-13T22:32:28.224696Z"
    },
    "papermill": {
     "duration": 5.549405,
     "end_time": "2022-01-08T11:33:04.243137",
     "exception": false,
     "start_time": "2022-01-08T11:32:58.693732",
     "status": "completed"
    },
    "tags": []
   },
   "outputs": [],
   "source": [
    "import tensorflow as tf\n",
    "import numpy as np\n",
    "import os\n",
    "import random\n",
    "import pandas as pd\n",
    "import seaborn as sns\n",
    "from datetime import datetime\n",
    "from sklearn.preprocessing import MinMaxScaler\n",
    "\n",
    "import matplotlib.pyplot as plt\n",
    "plt.rc('font', size=16)\n",
    "\n",
    "import warnings\n",
    "warnings.filterwarnings('ignore')\n",
    "tf.get_logger().setLevel('ERROR')\n",
    "\n",
    "tfk = tf.keras\n",
    "tfkl = tf.keras.layers"
   ]
  },
  {
   "cell_type": "code",
   "execution_count": null,
   "id": "1b4f960b",
   "metadata": {
    "execution": {
     "iopub.execute_input": "2022-01-08T11:33:04.295041Z",
     "iopub.status.busy": "2022-01-08T11:33:04.294279Z",
     "iopub.status.idle": "2022-01-08T11:33:04.296739Z",
     "shell.execute_reply": "2022-01-08T11:33:04.296309Z",
     "shell.execute_reply.started": "2021-12-13T22:23:54.631557Z"
    },
    "papermill": {
     "duration": 0.030138,
     "end_time": "2022-01-08T11:33:04.296851",
     "exception": false,
     "start_time": "2022-01-08T11:33:04.266713",
     "status": "completed"
    },
    "tags": []
   },
   "outputs": [],
   "source": [
    "# Random seed for reproducibility\n",
    "seed = 42\n",
    "\n",
    "random.seed(seed)\n",
    "os.environ['PYTHONHASHSEED'] = str(seed)\n",
    "np.random.seed(seed)\n",
    "tf.random.set_seed(seed)\n",
    "tf.compat.v1.set_random_seed(seed)"
   ]
  },
  {
   "cell_type": "code",
   "execution_count": null,
   "id": "03a0426c",
   "metadata": {
    "execution": {
     "iopub.execute_input": "2022-01-08T11:33:04.350629Z",
     "iopub.status.busy": "2022-01-08T11:33:04.349647Z",
     "iopub.status.idle": "2022-01-08T11:33:04.351635Z",
     "shell.execute_reply": "2022-01-08T11:33:04.352141Z"
    },
    "papermill": {
     "duration": 0.029866,
     "end_time": "2022-01-08T11:33:04.352291",
     "exception": false,
     "start_time": "2022-01-08T11:33:04.322425",
     "status": "completed"
    },
    "tags": []
   },
   "outputs": [],
   "source": [
    "# Enable/disable test mode\n",
    "test_mode = True"
   ]
  },
  {
   "cell_type": "markdown",
   "id": "fb674a03",
   "metadata": {
    "papermill": {
     "duration": 0.025596,
     "end_time": "2022-01-08T11:33:04.400678",
     "exception": false,
     "start_time": "2022-01-08T11:33:04.375082",
     "status": "completed"
    },
    "tags": []
   },
   "source": [
    "## Import and visualize the dataset"
   ]
  },
  {
   "cell_type": "code",
   "execution_count": null,
   "id": "4c642598",
   "metadata": {
    "execution": {
     "iopub.execute_input": "2022-01-08T11:33:04.458817Z",
     "iopub.status.busy": "2022-01-08T11:33:04.458191Z",
     "iopub.status.idle": "2022-01-08T11:33:04.688502Z",
     "shell.execute_reply": "2022-01-08T11:33:04.688913Z",
     "shell.execute_reply.started": "2021-12-13T22:23:54.638599Z"
    },
    "papermill": {
     "duration": 0.261681,
     "end_time": "2022-01-08T11:33:04.689055",
     "exception": false,
     "start_time": "2022-01-08T11:33:04.427374",
     "status": "completed"
    },
    "tags": []
   },
   "outputs": [],
   "source": [
    "# Set the path to the dataset\n",
    "#dataset = pd.read_csv('../input/homework2/Training.csv')\n",
    "dataset = pd.read_csv('../input/Training.csv')\n",
    "print(dataset.shape) \n",
    "dataset.head().transpose()"
   ]
  },
  {
   "cell_type": "code",
   "execution_count": null,
   "id": "aa442ae4",
   "metadata": {
    "execution": {
     "iopub.execute_input": "2022-01-08T11:33:04.755510Z",
     "iopub.status.busy": "2022-01-08T11:33:04.754703Z",
     "iopub.status.idle": "2022-01-08T11:33:04.757983Z",
     "shell.execute_reply": "2022-01-08T11:33:04.758474Z",
     "shell.execute_reply.started": "2021-12-13T22:23:54.871969Z"
    },
    "papermill": {
     "duration": 0.043693,
     "end_time": "2022-01-08T11:33:04.758651",
     "exception": false,
     "start_time": "2022-01-08T11:33:04.714958",
     "status": "completed"
    },
    "tags": []
   },
   "outputs": [],
   "source": [
    "dataset.head()"
   ]
  },
  {
   "cell_type": "code",
   "execution_count": null,
   "id": "326651c7",
   "metadata": {
    "execution": {
     "iopub.execute_input": "2022-01-08T11:33:04.814799Z",
     "iopub.status.busy": "2022-01-08T11:33:04.813981Z",
     "iopub.status.idle": "2022-01-08T11:33:04.833527Z",
     "shell.execute_reply": "2022-01-08T11:33:04.833977Z",
     "shell.execute_reply.started": "2021-12-13T22:23:54.889884Z"
    },
    "papermill": {
     "duration": 0.048071,
     "end_time": "2022-01-08T11:33:04.834128",
     "exception": false,
     "start_time": "2022-01-08T11:33:04.786057",
     "status": "completed"
    },
    "tags": []
   },
   "outputs": [],
   "source": [
    "dataset.info()"
   ]
  },
  {
   "cell_type": "code",
   "execution_count": null,
   "id": "ba1c30d2",
   "metadata": {
    "execution": {
     "iopub.execute_input": "2022-01-08T11:33:04.895066Z",
     "iopub.status.busy": "2022-01-08T11:33:04.894174Z",
     "iopub.status.idle": "2022-01-08T11:33:05.838841Z",
     "shell.execute_reply": "2022-01-08T11:33:05.839313Z",
     "shell.execute_reply.started": "2021-12-13T22:23:54.912539Z"
    },
    "papermill": {
     "duration": 0.979522,
     "end_time": "2022-01-08T11:33:05.839475",
     "exception": false,
     "start_time": "2022-01-08T11:33:04.859953",
     "status": "completed"
    },
    "tags": []
   },
   "outputs": [],
   "source": [
    "def inspect_dataframe(df, columns):\n",
    "    figs, axs = plt.subplots(len(columns), 1, sharex=True, figsize=(17,17))\n",
    "    for i, col in enumerate(columns):\n",
    "        axs[i].plot(df[col])\n",
    "        axs[i].set_title(col)\n",
    "    plt.show()\n",
    "inspect_dataframe(dataset, dataset.columns)"
   ]
  },
  {
   "cell_type": "markdown",
   "id": "3fdce2eb",
   "metadata": {
    "papermill": {
     "duration": 0.02974,
     "end_time": "2022-01-08T11:33:05.898673",
     "exception": false,
     "start_time": "2022-01-08T11:33:05.868933",
     "status": "completed"
    },
    "tags": []
   },
   "source": [
    "# Data preprocessing"
   ]
  },
  {
   "cell_type": "code",
   "execution_count": null,
   "id": "a11c72b7",
   "metadata": {
    "execution": {
     "iopub.execute_input": "2022-01-08T11:33:05.964538Z",
     "iopub.status.busy": "2022-01-08T11:33:05.963687Z",
     "iopub.status.idle": "2022-01-08T11:33:05.973943Z",
     "shell.execute_reply": "2022-01-08T11:33:05.973520Z",
     "shell.execute_reply.started": "2021-12-13T22:23:55.862103Z"
    },
    "papermill": {
     "duration": 0.045583,
     "end_time": "2022-01-08T11:33:05.974061",
     "exception": false,
     "start_time": "2022-01-08T11:33:05.928478",
     "status": "completed"
    },
    "tags": []
   },
   "outputs": [],
   "source": [
    "if(test_mode):\n",
    "    test_size = 10000\n",
    "    X_train_raw = dataset.iloc[:-test_size]\n",
    "    X_test_raw = dataset.iloc[-test_size:]\n",
    "else:\n",
    "    X_train_raw = dataset\n",
    "\n",
    "# y_train_raw = y.iloc[:-test_size]\n",
    "# Normalize both features and labels\n",
    "X_min = X_train_raw.min()\n",
    "X_max = X_train_raw.max()\n",
    "\n",
    "X_train_raw = (X_train_raw-X_min)/(X_max-X_min)\n",
    "\n",
    "if(test_mode):\n",
    "    # y_test_raw = y.iloc[-test_size:]\n",
    "    X_test_raw = (X_test_raw-X_min)/(X_max-X_min)\n",
    "\n"
   ]
  },
  {
   "cell_type": "markdown",
   "id": "86f13fea",
   "metadata": {
    "papermill": {
     "duration": 0.028961,
     "end_time": "2022-01-08T11:33:06.032117",
     "exception": false,
     "start_time": "2022-01-08T11:33:06.003156",
     "status": "completed"
    },
    "tags": []
   },
   "source": [
    "## Extracting sequences from the dataset"
   ]
  },
  {
   "cell_type": "code",
   "execution_count": null,
   "id": "da691f92",
   "metadata": {
    "execution": {
     "iopub.execute_input": "2022-01-08T11:33:06.100075Z",
     "iopub.status.busy": "2022-01-08T11:33:06.098513Z",
     "iopub.status.idle": "2022-01-08T11:33:06.100728Z",
     "shell.execute_reply": "2022-01-08T11:33:06.101116Z",
     "shell.execute_reply.started": "2021-12-13T22:30:08.410857Z"
    },
    "papermill": {
     "duration": 0.04005,
     "end_time": "2022-01-08T11:33:06.101264",
     "exception": false,
     "start_time": "2022-01-08T11:33:06.061214",
     "status": "completed"
    },
    "tags": []
   },
   "outputs": [],
   "source": [
    "def build_sequences(df, target_labels, window, stride, telescope):\n",
    "    # Sanity check to avoid runtime errors\n",
    "    assert window % stride == 0\n",
    "    dataset = []\n",
    "    labels = []\n",
    "    temp_df = df.copy().values\n",
    "    temp_label = df[target_labels].copy().values\n",
    "    padding_len = len(df)%window\n",
    "\n",
    "    if(padding_len != 0):\n",
    "        # Compute padding length\n",
    "        padding_len = window - len(df)%window\n",
    "        padding = np.zeros((padding_len,temp_df.shape[1]), dtype='float32')#float32\n",
    "        temp_df = np.concatenate((padding,df))\n",
    "        padding = np.zeros((padding_len,temp_label.shape[1]), dtype='float32')\n",
    "        temp_label = np.concatenate((padding,temp_label))\n",
    "        assert len(temp_df) % window == 0\n",
    "\n",
    "    for idx in np.arange(0,len(temp_df)-window-telescope,stride):\n",
    "        dataset.append(temp_df[idx:idx+window])\n",
    "        labels.append(temp_label[idx+window:idx+window+telescope])\n",
    "\n",
    "    dataset = np.array(dataset)\n",
    "    labels = np.array(labels)\n",
    "    return dataset, labels"
   ]
  },
  {
   "cell_type": "code",
   "execution_count": null,
   "id": "502fb4cf",
   "metadata": {
    "execution": {
     "iopub.execute_input": "2022-01-08T11:33:06.163602Z",
     "iopub.status.busy": "2022-01-08T11:33:06.162929Z",
     "iopub.status.idle": "2022-01-08T11:33:06.165407Z",
     "shell.execute_reply": "2022-01-08T11:33:06.164981Z",
     "shell.execute_reply.started": "2021-12-13T22:23:55.882468Z"
    },
    "papermill": {
     "duration": 0.03497,
     "end_time": "2022-01-08T11:33:06.165518",
     "exception": false,
     "start_time": "2022-01-08T11:33:06.130548",
     "status": "completed"
    },
    "tags": []
   },
   "outputs": [],
   "source": [
    "target_labels = dataset.columns\n",
    "window = 200\n",
    "stride = 5\n",
    "telescope = 1"
   ]
  },
  {
   "cell_type": "code",
   "execution_count": null,
   "id": "b621bf0b",
   "metadata": {
    "execution": {
     "iopub.execute_input": "2022-01-08T11:33:06.229461Z",
     "iopub.status.busy": "2022-01-08T11:33:06.228793Z",
     "iopub.status.idle": "2022-01-08T11:33:06.231281Z",
     "shell.execute_reply": "2022-01-08T11:33:06.231764Z"
    },
    "papermill": {
     "duration": 0.037913,
     "end_time": "2022-01-08T11:33:06.231994",
     "exception": false,
     "start_time": "2022-01-08T11:33:06.194081",
     "status": "completed"
    },
    "tags": []
   },
   "outputs": [],
   "source": [
    "future = dataset[-window:]\n",
    "future = (future-X_min)/(X_max-X_min)\n",
    "future = np.expand_dims(future, axis=0)\n",
    "future.shape"
   ]
  },
  {
   "cell_type": "code",
   "execution_count": null,
   "id": "de78cc4a",
   "metadata": {
    "execution": {
     "iopub.execute_input": "2022-01-08T11:33:06.296096Z",
     "iopub.status.busy": "2022-01-08T11:33:06.295258Z",
     "iopub.status.idle": "2022-01-08T11:33:06.406398Z",
     "shell.execute_reply": "2022-01-08T11:33:06.407066Z",
     "shell.execute_reply.started": "2021-12-13T22:30:14.235497Z"
    },
    "papermill": {
     "duration": 0.145497,
     "end_time": "2022-01-08T11:33:06.407236",
     "exception": false,
     "start_time": "2022-01-08T11:33:06.261739",
     "status": "completed"
    },
    "tags": []
   },
   "outputs": [],
   "source": [
    "X_train, y_train = build_sequences(X_train_raw, target_labels, window, stride, telescope)\n",
    "print(X_train.shape, y_train.shape)\n",
    "\n",
    "if(test_mode):\n",
    "    X_test, y_test = build_sequences(X_test_raw, target_labels, window, stride, telescope)\n",
    "    print(X_test.shape, y_test.shape)"
   ]
  },
  {
   "cell_type": "code",
   "execution_count": null,
   "id": "2d7a7abf",
   "metadata": {
    "execution": {
     "iopub.execute_input": "2022-01-08T11:33:06.474744Z",
     "iopub.status.busy": "2022-01-08T11:33:06.469282Z",
     "iopub.status.idle": "2022-01-08T11:33:06.477315Z",
     "shell.execute_reply": "2022-01-08T11:33:06.476866Z",
     "shell.execute_reply.started": "2021-12-13T22:30:19.452369Z"
    },
    "papermill": {
     "duration": 0.040449,
     "end_time": "2022-01-08T11:33:06.477428",
     "exception": false,
     "start_time": "2022-01-08T11:33:06.436979",
     "status": "completed"
    },
    "tags": []
   },
   "outputs": [],
   "source": [
    "def inspect_multivariate(X, y, columns, telescope, idx=None):\n",
    "    if(idx==None):\n",
    "        idx=np.random.randint(0,len(X))\n",
    "\n",
    "    figs, axs = plt.subplots(len(columns), 1, sharex=True, figsize=(17,17))\n",
    "    for i, col in enumerate(columns):\n",
    "        axs[i].plot(np.arange(len(X[0,:,i])), X[idx,:,i])\n",
    "        axs[i].scatter(np.arange(len(X[0,:,i]), len(X_train[0,:,i])+telescope), y[idx,:,i], color='orange')\n",
    "        axs[i].set_title(col)\n",
    "        axs[i].set_ylim(0,1)\n",
    "    plt.show()"
   ]
  },
  {
   "cell_type": "code",
   "execution_count": null,
   "id": "deb60275",
   "metadata": {
    "execution": {
     "iopub.execute_input": "2022-01-08T11:33:06.553981Z",
     "iopub.status.busy": "2022-01-08T11:33:06.552969Z",
     "iopub.status.idle": "2022-01-08T11:33:07.295925Z",
     "shell.execute_reply": "2022-01-08T11:33:07.296382Z",
     "shell.execute_reply.started": "2021-12-13T22:30:25.693661Z"
    },
    "papermill": {
     "duration": 0.78935,
     "end_time": "2022-01-08T11:33:07.296532",
     "exception": false,
     "start_time": "2022-01-08T11:33:06.507182",
     "status": "completed"
    },
    "tags": []
   },
   "outputs": [],
   "source": [
    "inspect_multivariate(X_train, y_train, target_labels, telescope)"
   ]
  },
  {
   "cell_type": "markdown",
   "id": "41e74ff5",
   "metadata": {
    "papermill": {
     "duration": 0.033263,
     "end_time": "2022-01-08T11:33:07.363317",
     "exception": false,
     "start_time": "2022-01-08T11:33:07.330054",
     "status": "completed"
    },
    "tags": []
   },
   "source": [
    "# Train the model"
   ]
  },
  {
   "cell_type": "code",
   "execution_count": null,
   "id": "b3a8f7bb",
   "metadata": {
    "execution": {
     "iopub.execute_input": "2022-01-08T11:33:07.436060Z",
     "iopub.status.busy": "2022-01-08T11:33:07.435144Z",
     "iopub.status.idle": "2022-01-08T11:33:07.438576Z",
     "shell.execute_reply": "2022-01-08T11:33:07.438986Z",
     "shell.execute_reply.started": "2021-12-13T22:39:51.376304Z"
    },
    "papermill": {
     "duration": 0.042361,
     "end_time": "2022-01-08T11:33:07.439124",
     "exception": false,
     "start_time": "2022-01-08T11:33:07.396763",
     "status": "completed"
    },
    "tags": []
   },
   "outputs": [],
   "source": [
    "input_shape = X_train.shape[1:]\n",
    "output_shape = y_train.shape[1:]\n",
    "print(y_train.shape)\n",
    "\n",
    "batch_size = 128\n",
    "epochs = 200\n",
    "\n",
    "model_name = 'seq2seq'"
   ]
  },
  {
   "cell_type": "code",
   "execution_count": null,
   "id": "b663b07d",
   "metadata": {
    "execution": {
     "iopub.execute_input": "2022-01-08T11:33:07.514377Z",
     "iopub.status.busy": "2022-01-08T11:33:07.513530Z",
     "iopub.status.idle": "2022-01-08T11:33:07.515664Z",
     "shell.execute_reply": "2022-01-08T11:33:07.516029Z",
     "shell.execute_reply.started": "2021-12-13T22:42:08.668724Z"
    },
    "papermill": {
     "duration": 0.043737,
     "end_time": "2022-01-08T11:33:07.516168",
     "exception": false,
     "start_time": "2022-01-08T11:33:07.472431",
     "status": "completed"
    },
    "tags": []
   },
   "outputs": [],
   "source": [
    "def build_model(input_shape ,output_shape):\n",
    "    #create model\n",
    "    model = tfk.Sequential()\n",
    "\n",
    "    input_train = tfk.Input(shape=input_shape)\n",
    "\n",
    "    # encoder, 3 lstm layers\n",
    "    enc_stack_h, enc_last_h, enc_last_c, x, y = tfkl.Bidirectional(tfkl.LSTM(units=256, return_sequences=True, return_state=True))(input_train)\n",
    "    enc_stack_h, enc_last_h, enc_last_c, x, y = tfkl.Bidirectional(tfkl.LSTM(units=256, return_sequences=True, return_state=True))(enc_stack_h, initial_state=[enc_last_h, enc_last_c, x, y])\n",
    "    enc_stack_h, enc_last_h, enc_last_c, x, y = tfkl.Bidirectional(tfkl.LSTM(units=256, return_sequences=True, return_state=True))(enc_stack_h, initial_state=[enc_last_h, enc_last_c, x, y])\n",
    "\n",
    "    # decoder\n",
    "    dec_input = tfkl.RepeatVector(output_shape[0])(enc_last_h)\n",
    "    dec_stack_h, dec_last_h, dec_last_c, x, y = tfkl.Bidirectional(tfkl.LSTM(units=256, return_sequences=True, return_state=True))(dec_input, initial_state=[enc_last_h, enc_last_c, x, y])\n",
    "    dec_stack_h = tfkl.Bidirectional(tfkl.LSTM(units=256, return_sequences=True, return_state=False))(dec_stack_h, initial_state=[dec_last_h, dec_last_c, x, y])\n",
    "\n",
    "    # attention\n",
    "    #attention = tfkl.dot([dec_stack_h, enc_stack_h], axes=[2, 2])\n",
    "    #attention = tfkl.Activation('softmax')(attention)\n",
    "#\n",
    "    ## context\n",
    "    #context = tfkl.dot([attention, enc_stack_h], axes=[2, 1])\n",
    "    #dec_combined = tfkl.concatenate([context, dec_stack_h])\n",
    "\n",
    "    # output\n",
    "    out = tfkl.TimeDistributed(tfkl.Dense(units=output_shape[1]))(dec_stack_h)\n",
    "\n",
    "    model = tfk.Model(inputs=input_train, outputs=out)\n",
    "    model.compile(loss=tfk.losses.MeanSquaredError(), optimizer=tfk.optimizers.Adam(), metrics=['mae'])\n",
    "\n",
    "\n",
    "    return model\n"
   ]
  },
  {
   "cell_type": "code",
   "execution_count": null,
   "id": "892f18eb",
   "metadata": {
    "execution": {
     "iopub.execute_input": "2022-01-08T11:33:07.587475Z",
     "iopub.status.busy": "2022-01-08T11:33:07.586940Z",
     "iopub.status.idle": "2022-01-08T11:33:13.151526Z",
     "shell.execute_reply": "2022-01-08T11:33:13.151939Z",
     "shell.execute_reply.started": "2021-12-13T22:42:13.846318Z"
    },
    "papermill": {
     "duration": 5.602035,
     "end_time": "2022-01-08T11:33:13.152087",
     "exception": false,
     "start_time": "2022-01-08T11:33:07.550052",
     "status": "completed"
    },
    "tags": []
   },
   "outputs": [],
   "source": [
    "model = build_model(input_shape, output_shape)\n",
    "model.summary()\n",
    "tfk.utils.plot_model(model, expand_nested=True)\n"
   ]
  },
  {
   "cell_type": "code",
   "execution_count": null,
   "id": "e15eb9ca",
   "metadata": {
    "execution": {
     "iopub.execute_input": "2022-01-08T11:33:13.230604Z",
     "iopub.status.busy": "2022-01-08T11:33:13.229939Z",
     "iopub.status.idle": "2022-01-08T11:50:34.484925Z",
     "shell.execute_reply": "2022-01-08T11:50:34.485578Z"
    },
    "papermill": {
     "duration": 1041.298065,
     "end_time": "2022-01-08T11:50:34.485795",
     "exception": false,
     "start_time": "2022-01-08T11:33:13.187730",
     "status": "completed"
    },
    "tags": []
   },
   "outputs": [],
   "source": [
    "# Train the model\n",
    "history = model.fit(\n",
    "    x = X_train,\n",
    "    y = y_train,\n",
    "    batch_size = batch_size,\n",
    "    epochs = epochs,\n",
    "    validation_split=.2,\n",
    "    callbacks = [\n",
    "        tfk.callbacks.EarlyStopping(monitor='val_loss', mode='min', patience=10, restore_best_weights=True),\n",
    "        tfk.callbacks.ReduceLROnPlateau(monitor='val_loss', mode='min', patience=5, factor=0.5, min_lr=1e-5)\n",
    "    ]\n",
    ").history"
   ]
  },
  {
   "cell_type": "code",
   "execution_count": null,
   "id": "94048f47",
   "metadata": {
    "execution": {
     "iopub.execute_input": "2022-01-08T11:50:37.430915Z",
     "iopub.status.busy": "2022-01-08T11:50:37.430108Z",
     "iopub.status.idle": "2022-01-08T11:51:25.728804Z",
     "shell.execute_reply": "2022-01-08T11:51:25.729453Z"
    },
    "papermill": {
     "duration": 49.865112,
     "end_time": "2022-01-08T11:51:25.729639",
     "exception": false,
     "start_time": "2022-01-08T11:50:35.864527",
     "status": "completed"
    },
    "tags": []
   },
   "outputs": [],
   "source": [
    "exp_dir = ''\n",
    "model.save(os.path.join(exp_dir, model_name))"
   ]
  },
  {
   "cell_type": "markdown",
   "id": "8ab01bea",
   "metadata": {
    "papermill": {
     "duration": 1.374348,
     "end_time": "2022-01-08T11:51:28.415950",
     "exception": false,
     "start_time": "2022-01-08T11:51:27.041602",
     "status": "completed"
    },
    "tags": []
   },
   "source": [
    "# Analyze the results"
   ]
  },
  {
   "cell_type": "code",
   "execution_count": null,
   "id": "088edfff",
   "metadata": {
    "execution": {
     "iopub.execute_input": "2022-01-08T11:51:31.073083Z",
     "iopub.status.busy": "2022-01-08T11:51:31.072117Z",
     "iopub.status.idle": "2022-01-08T11:51:31.848248Z",
     "shell.execute_reply": "2022-01-08T11:51:31.848708Z",
     "shell.execute_reply.started": "2021-12-13T22:23:56.138566Z"
    },
    "papermill": {
     "duration": 2.117746,
     "end_time": "2022-01-08T11:51:31.848864",
     "exception": false,
     "start_time": "2022-01-08T11:51:29.731118",
     "status": "completed"
    },
    "tags": []
   },
   "outputs": [],
   "source": [
    "# Plot loss, accuracy and learning rate\n",
    "best_epoch = np.argmin(history['val_loss'])\n",
    "\n",
    "plt.figure(figsize=(17,4))\n",
    "plt.plot(history['loss'], label='Training loss', alpha=.8, color='#ff7f0e')\n",
    "plt.plot(history['val_loss'], label='Validation loss', alpha=.9, color='#5a9aa5')\n",
    "plt.axvline(x=best_epoch, label='Best epoch', alpha=.3, ls='--', color='#5a9aa5')\n",
    "plt.title('Mean Squared Error (Loss)')\n",
    "plt.legend()\n",
    "plt.grid(alpha=.3)\n",
    "plt.show()\n",
    "\n",
    "plt.figure(figsize=(17,4))\n",
    "plt.plot(history['mae'], label='Training accuracy', alpha=.8, color='#ff7f0e')\n",
    "plt.plot(history['val_mae'], label='Validation accuracy', alpha=.9, color='#5a9aa5')\n",
    "plt.axvline(x=best_epoch, label='Best epoch', alpha=.3, ls='--', color='#5a9aa5')\n",
    "plt.title('Mean Absolute Error')\n",
    "plt.legend()\n",
    "plt.grid(alpha=.3)\n",
    "plt.show()\n",
    "\n",
    "plt.figure(figsize=(18,3))\n",
    "plt.plot(history['lr'], label='Learning Rate', alpha=.8, color='#ff7f0e')\n",
    "plt.axvline(x=best_epoch, label='Best epoch', alpha=.3, ls='--', color='#5a9aa5')\n",
    "plt.legend()\n",
    "plt.grid(alpha=.3)\n",
    "plt.show()"
   ]
  },
  {
   "cell_type": "code",
   "execution_count": null,
   "id": "9999936d",
   "metadata": {
    "execution": {
     "iopub.execute_input": "2022-01-08T11:51:34.473809Z",
     "iopub.status.busy": "2022-01-08T11:51:34.473187Z",
     "iopub.status.idle": "2022-01-08T11:51:41.958383Z",
     "shell.execute_reply": "2022-01-08T11:51:41.958803Z",
     "shell.execute_reply.started": "2021-12-13T22:23:56.140552Z"
    },
    "papermill": {
     "duration": 8.80047,
     "end_time": "2022-01-08T11:51:41.958967",
     "exception": false,
     "start_time": "2022-01-08T11:51:33.158497",
     "status": "completed"
    },
    "tags": []
   },
   "outputs": [],
   "source": [
    "# Predict the test set \n",
    "if(test_mode):\n",
    "    predictions = model.predict(X_test)\n",
    "    print(predictions.shape)\n",
    "\n",
    "    mean_squared_error = tfk.metrics.mse(y_test.flatten(),predictions.flatten())\n",
    "    mean_absolute_error = tfk.metrics.mae(y_test.flatten(),predictions.flatten())\n",
    "    print(mean_squared_error, mean_absolute_error)"
   ]
  },
  {
   "cell_type": "code",
   "execution_count": null,
   "id": "3bcec035",
   "metadata": {
    "execution": {
     "iopub.execute_input": "2022-01-08T11:51:44.896308Z",
     "iopub.status.busy": "2022-01-08T11:51:44.895432Z",
     "iopub.status.idle": "2022-01-08T11:51:44.897489Z",
     "shell.execute_reply": "2022-01-08T11:51:44.897868Z",
     "shell.execute_reply.started": "2021-12-13T22:23:56.142118Z"
    },
    "papermill": {
     "duration": 1.328019,
     "end_time": "2022-01-08T11:51:44.898008",
     "exception": false,
     "start_time": "2022-01-08T11:51:43.569989",
     "status": "completed"
    },
    "tags": []
   },
   "outputs": [],
   "source": [
    "def inspect_multivariate_prediction(X, y, pred, columns, telescope, idx=None):\n",
    "    if(idx==None):\n",
    "        idx=np.random.randint(0,len(X))\n",
    "\n",
    "    figs, axs = plt.subplots(len(columns), 1, sharex=True, figsize=(17,17))\n",
    "    for i, col in enumerate(columns):\n",
    "        axs[i].plot(np.arange(len(X[0,:,i])), X[idx,:,i])\n",
    "        axs[i].plot(np.arange(len(X[0,:,i]), len(X_train[0,:,i])+telescope), y[idx,:,i], color='orange')\n",
    "        axs[i].plot(np.arange(len(X[0,:,i]), len(X_train[0,:,i])+telescope), pred[idx,:,i], color='green')\n",
    "        axs[i].set_title(col)\n",
    "        axs[i].set_ylim(0,1)\n",
    "    plt.show()"
   ]
  },
  {
   "cell_type": "code",
   "execution_count": null,
   "id": "2bc1481a",
   "metadata": {
    "execution": {
     "iopub.execute_input": "2022-01-08T11:51:47.561331Z",
     "iopub.status.busy": "2022-01-08T11:51:47.560237Z",
     "iopub.status.idle": "2022-01-08T11:51:48.249431Z",
     "shell.execute_reply": "2022-01-08T11:51:48.249851Z",
     "shell.execute_reply.started": "2021-12-13T22:23:56.143775Z"
    },
    "papermill": {
     "duration": 2.03514,
     "end_time": "2022-01-08T11:51:48.250000",
     "exception": false,
     "start_time": "2022-01-08T11:51:46.214860",
     "status": "completed"
    },
    "tags": []
   },
   "outputs": [],
   "source": [
    "if(test_mode):\n",
    "    inspect_multivariate_prediction(X_test, y_test, predictions, target_labels, telescope)"
   ]
  },
  {
   "cell_type": "code",
   "execution_count": null,
   "id": "10ff44e2",
   "metadata": {
    "execution": {
     "iopub.execute_input": "2022-01-08T11:51:50.961948Z",
     "iopub.status.busy": "2022-01-08T11:51:50.955183Z",
     "iopub.status.idle": "2022-01-08T12:05:11.435405Z",
     "shell.execute_reply": "2022-01-08T12:05:11.434511Z"
    },
    "papermill": {
     "duration": 801.838423,
     "end_time": "2022-01-08T12:05:11.435554",
     "exception": false,
     "start_time": "2022-01-08T11:51:49.597131",
     "status": "completed"
    },
    "tags": []
   },
   "outputs": [],
   "source": [
    "if(test_mode):\n",
    "    reg_telescope = 216 # 864/4, 864 is too high\n",
    "    X_test_reg, y_test_reg = build_sequences(X_test_raw, target_labels, window, stride, reg_telescope)\n",
    "    print(X_test_reg.shape, y_test_reg.shape)\n",
    "\n",
    "    # Autoregressive Forecasting\n",
    "    reg_predictions = np.array([])\n",
    "    X_temp = X_test_reg\n",
    "    for reg in range(0,reg_telescope,telescope):\n",
    "        pred_temp = model.predict(X_temp)\n",
    "        if(len(reg_predictions)==0):\n",
    "            reg_predictions = pred_temp\n",
    "        else:\n",
    "            reg_predictions = np.concatenate((reg_predictions,pred_temp),axis=1)\n",
    "        X_temp = np.concatenate((X_temp[:,telescope:,:],pred_temp), axis=1)"
   ]
  },
  {
   "cell_type": "code",
   "execution_count": null,
   "id": "375ce5c7",
   "metadata": {
    "execution": {
     "iopub.execute_input": "2022-01-08T12:05:14.102316Z",
     "iopub.status.busy": "2022-01-08T12:05:14.101681Z",
     "iopub.status.idle": "2022-01-08T12:05:14.104492Z",
     "shell.execute_reply": "2022-01-08T12:05:14.104898Z"
    },
    "papermill": {
     "duration": 1.321738,
     "end_time": "2022-01-08T12:05:14.105028",
     "exception": false,
     "start_time": "2022-01-08T12:05:12.783290",
     "status": "completed"
    },
    "tags": []
   },
   "outputs": [],
   "source": [
    "if(test_mode):\n",
    "    print(reg_predictions.shape)"
   ]
  },
  {
   "cell_type": "code",
   "execution_count": null,
   "id": "fed3a1fb",
   "metadata": {
    "execution": {
     "iopub.execute_input": "2022-01-08T12:05:17.031545Z",
     "iopub.status.busy": "2022-01-08T12:05:17.030264Z",
     "iopub.status.idle": "2022-01-08T12:05:17.099053Z",
     "shell.execute_reply": "2022-01-08T12:05:17.099960Z"
    },
    "papermill": {
     "duration": 1.68364,
     "end_time": "2022-01-08T12:05:17.100137",
     "exception": false,
     "start_time": "2022-01-08T12:05:15.416497",
     "status": "completed"
    },
    "tags": []
   },
   "outputs": [],
   "source": [
    "if(test_mode):\n",
    "    mean_squared_error = tfk.metrics.mse(y_test_reg.flatten(),reg_predictions.flatten())\n",
    "    mean_absolute_error = tfk.metrics.mae(y_test_reg.flatten(),reg_predictions.flatten())\n",
    "    print(mean_squared_error, mean_absolute_error)"
   ]
  },
  {
   "cell_type": "code",
   "execution_count": null,
   "id": "9fa4923a",
   "metadata": {
    "execution": {
     "iopub.execute_input": "2022-01-08T12:05:19.771611Z",
     "iopub.status.busy": "2022-01-08T12:05:19.770714Z",
     "iopub.status.idle": "2022-01-08T12:05:22.978007Z",
     "shell.execute_reply": "2022-01-08T12:05:22.978433Z"
    },
    "papermill": {
     "duration": 4.540734,
     "end_time": "2022-01-08T12:05:22.978582",
     "exception": false,
     "start_time": "2022-01-08T12:05:18.437848",
     "status": "completed"
    },
    "tags": []
   },
   "outputs": [],
   "source": [
    "if(test_mode):\n",
    "    inspect_multivariate_prediction(X_test_reg, y_test_reg, reg_predictions, target_labels, reg_telescope)"
   ]
  },
  {
   "cell_type": "code",
   "execution_count": null,
   "id": "e97de64a",
   "metadata": {
    "execution": {
     "iopub.execute_input": "2022-01-08T12:05:25.670958Z",
     "iopub.status.busy": "2022-01-08T12:05:25.670318Z",
     "iopub.status.idle": "2022-01-08T12:05:25.673369Z",
     "shell.execute_reply": "2022-01-08T12:05:25.672902Z",
     "shell.execute_reply.started": "2021-12-13T22:23:56.14515Z"
    },
    "papermill": {
     "duration": 1.329898,
     "end_time": "2022-01-08T12:05:25.673491",
     "exception": false,
     "start_time": "2022-01-08T12:05:24.343593",
     "status": "completed"
    },
    "tags": []
   },
   "outputs": [],
   "source": [
    "if(test_mode):\n",
    "    maes = []\n",
    "    for i in range(predictions.shape[1]):\n",
    "        ft_maes = []\n",
    "        for j in range(predictions.shape[2]):\n",
    "            ft_maes.append(np.mean(np.abs(y_test[:,i,j]-predictions[:,i,j]), axis=0))\n",
    "        ft_maes = np.array(ft_maes)\n",
    "        maes.append(ft_maes)\n",
    "    maes = np.array(maes)"
   ]
  },
  {
   "cell_type": "code",
   "execution_count": null,
   "id": "1159a894",
   "metadata": {
    "execution": {
     "iopub.execute_input": "2022-01-08T12:05:28.654673Z",
     "iopub.status.busy": "2022-01-08T12:05:28.653882Z",
     "iopub.status.idle": "2022-01-08T12:05:28.721559Z",
     "shell.execute_reply": "2022-01-08T12:05:28.722300Z",
     "shell.execute_reply.started": "2021-12-13T22:23:56.146524Z"
    },
    "papermill": {
     "duration": 1.680942,
     "end_time": "2022-01-08T12:05:28.722486",
     "exception": false,
     "start_time": "2022-01-08T12:05:27.041544",
     "status": "completed"
    },
    "tags": []
   },
   "outputs": [],
   "source": [
    "if(test_mode):\n",
    "    future_predictions = model.predict(future)\n",
    "    print(future_predictions.shape)"
   ]
  },
  {
   "cell_type": "code",
   "execution_count": null,
   "id": "821e5d6b",
   "metadata": {
    "execution": {
     "iopub.execute_input": "2022-01-08T12:05:31.491750Z",
     "iopub.status.busy": "2022-01-08T12:05:31.476978Z",
     "iopub.status.idle": "2022-01-08T12:05:32.200159Z",
     "shell.execute_reply": "2022-01-08T12:05:32.200586Z",
     "shell.execute_reply.started": "2021-12-13T22:23:56.1479Z"
    },
    "papermill": {
     "duration": 2.11074,
     "end_time": "2022-01-08T12:05:32.200731",
     "exception": false,
     "start_time": "2022-01-08T12:05:30.089991",
     "status": "completed"
    },
    "tags": []
   },
   "outputs": [],
   "source": [
    "if(test_mode):\n",
    "    figs, axs = plt.subplots(len(target_labels), 1, sharex=True, figsize=(17,17))\n",
    "    for i, col in enumerate(target_labels):\n",
    "        axs[i].plot(np.arange(len(future[0,:,i])), future[0,:,i])\n",
    "        axs[i].plot(np.arange(len(future[0,:,i]), len(future[0,:,i])+telescope), future_predictions[0,:,i], color='orange')\n",
    "        axs[i].fill_between(\n",
    "            np.arange(len(future[0,:,i]), len(future[0,:,i])+telescope), \n",
    "            future_predictions[0,:,i]+maes[:,i], \n",
    "            future_predictions[0,:,i]-maes[:,i], \n",
    "            color='orange', alpha=.3)\n",
    "        axs[i].set_title(col)\n",
    "        # axs[i].set_ylim(0,1)\n",
    "    plt.show()"
   ]
  }
 ],
 "metadata": {
  "kernelspec": {
   "display_name": "Python 3",
   "language": "python",
   "name": "python3"
  },
  "language_info": {
   "codemirror_mode": {
    "name": "ipython",
    "version": 3
   },
   "file_extension": ".py",
   "mimetype": "text/x-python",
   "name": "python",
   "nbconvert_exporter": "python",
   "pygments_lexer": "ipython3",
   "version": "3.10.1"
  },
  "papermill": {
   "default_parameters": {},
   "duration": 1966.88124,
   "end_time": "2022-01-08T12:05:37.447986",
   "environment_variables": {},
   "exception": null,
   "input_path": "__notebook__.ipynb",
   "output_path": "__notebook__.ipynb",
   "parameters": {},
   "start_time": "2022-01-08T11:32:50.566746",
   "version": "2.3.3"
  }
 },
 "nbformat": 4,
 "nbformat_minor": 5
}
