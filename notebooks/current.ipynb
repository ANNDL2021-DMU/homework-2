{
 "cells": [
  {
   "cell_type": "markdown",
   "id": "0314b425",
   "metadata": {
    "papermill": {
     "duration": 0.024937,
     "end_time": "2021-12-22T10:10:13.365995",
     "exception": false,
     "start_time": "2021-12-22T10:10:13.341058",
     "status": "completed"
    },
    "tags": []
   },
   "source": [
    "# Initialization"
   ]
  },
  {
   "cell_type": "code",
   "execution_count": null,
   "id": "422026cb",
   "metadata": {
    "_cell_guid": "b1076dfc-b9ad-4769-8c92-a6c4dae69d19",
    "_uuid": "8f2839f25d086af736a60e9eeb907d3b93b6e0e5",
    "execution": {
     "iopub.execute_input": "2021-12-22T10:10:13.419787Z",
     "iopub.status.busy": "2021-12-22T10:10:13.418200Z",
     "iopub.status.idle": "2021-12-22T10:10:18.891743Z",
     "shell.execute_reply": "2021-12-22T10:10:18.890562Z",
     "shell.execute_reply.started": "2021-12-13T22:32:28.224696Z"
    },
    "papermill": {
     "duration": 5.500139,
     "end_time": "2021-12-22T10:10:18.892019",
     "exception": false,
     "start_time": "2021-12-22T10:10:13.391880",
     "status": "completed"
    },
    "tags": []
   },
   "outputs": [],
   "source": [
    "import tensorflow as tf\n",
    "import numpy as np\n",
    "import os\n",
    "import random\n",
    "import pandas as pd\n",
    "import seaborn as sns\n",
    "from datetime import datetime\n",
    "from sklearn.preprocessing import MinMaxScaler\n",
    "\n",
    "import matplotlib.pyplot as plt\n",
    "plt.rc('font', size=16)\n",
    "\n",
    "import warnings\n",
    "warnings.filterwarnings('ignore')\n",
    "tf.get_logger().setLevel('ERROR')\n",
    "\n",
    "tfk = tf.keras\n",
    "tfkl = tf.keras.layers"
   ]
  },
  {
   "cell_type": "code",
   "execution_count": null,
   "id": "0c4ffef5",
   "metadata": {
    "execution": {
     "iopub.execute_input": "2021-12-22T10:10:18.943129Z",
     "iopub.status.busy": "2021-12-22T10:10:18.942309Z",
     "iopub.status.idle": "2021-12-22T10:10:18.944289Z",
     "shell.execute_reply": "2021-12-22T10:10:18.944646Z",
     "shell.execute_reply.started": "2021-12-13T22:23:54.631557Z"
    },
    "papermill": {
     "duration": 0.029901,
     "end_time": "2021-12-22T10:10:18.944792",
     "exception": false,
     "start_time": "2021-12-22T10:10:18.914891",
     "status": "completed"
    },
    "tags": []
   },
   "outputs": [],
   "source": [
    "# Random seed for reproducibility\n",
    "seed = 42\n",
    "\n",
    "random.seed(seed)\n",
    "os.environ['PYTHONHASHSEED'] = str(seed)\n",
    "np.random.seed(seed)\n",
    "tf.random.set_seed(seed)\n",
    "tf.compat.v1.set_random_seed(seed)"
   ]
  },
  {
   "cell_type": "code",
   "execution_count": null,
   "id": "37417b8d",
   "metadata": {
    "execution": {
     "iopub.execute_input": "2021-12-22T10:10:18.991971Z",
     "iopub.status.busy": "2021-12-22T10:10:18.991243Z",
     "iopub.status.idle": "2021-12-22T10:10:18.993538Z",
     "shell.execute_reply": "2021-12-22T10:10:18.993152Z"
    },
    "papermill": {
     "duration": 0.02703,
     "end_time": "2021-12-22T10:10:18.993641",
     "exception": false,
     "start_time": "2021-12-22T10:10:18.966611",
     "status": "completed"
    },
    "tags": []
   },
   "outputs": [],
   "source": [
    "# Enable/disable test mode\n",
    "test_mode = True"
   ]
  },
  {
   "cell_type": "markdown",
   "id": "0cbc5a52",
   "metadata": {
    "papermill": {
     "duration": 0.022373,
     "end_time": "2021-12-22T10:10:19.037980",
     "exception": false,
     "start_time": "2021-12-22T10:10:19.015607",
     "status": "completed"
    },
    "tags": []
   },
   "source": [
    "## Import and visualize the dataset"
   ]
  },
  {
   "cell_type": "code",
   "execution_count": null,
   "id": "c0e74a97",
   "metadata": {
    "execution": {
     "iopub.execute_input": "2021-12-22T10:10:19.085684Z",
     "iopub.status.busy": "2021-12-22T10:10:19.085193Z",
     "iopub.status.idle": "2021-12-22T10:10:19.263308Z",
     "shell.execute_reply": "2021-12-22T10:10:19.263899Z",
     "shell.execute_reply.started": "2021-12-13T22:23:54.638599Z"
    },
    "papermill": {
     "duration": 0.204196,
     "end_time": "2021-12-22T10:10:19.264079",
     "exception": false,
     "start_time": "2021-12-22T10:10:19.059883",
     "status": "completed"
    },
    "tags": []
   },
   "outputs": [],
   "source": [
    "# Set the path to the dataset\n",
    "dataset = pd.read_csv('../input/homework2/Training.csv')\n",
    "#dataset = pd.read_csv('../input/Training.csv')\n",
    "print(dataset.shape) \n",
    "dataset.head().transpose()"
   ]
  },
  {
   "cell_type": "code",
   "execution_count": null,
   "id": "91e3c965",
   "metadata": {
    "execution": {
     "iopub.execute_input": "2021-12-22T10:10:19.323302Z",
     "iopub.status.busy": "2021-12-22T10:10:19.322143Z",
     "iopub.status.idle": "2021-12-22T10:10:19.331827Z",
     "shell.execute_reply": "2021-12-22T10:10:19.332268Z",
     "shell.execute_reply.started": "2021-12-13T22:23:54.871969Z"
    },
    "papermill": {
     "duration": 0.043133,
     "end_time": "2021-12-22T10:10:19.332422",
     "exception": false,
     "start_time": "2021-12-22T10:10:19.289289",
     "status": "completed"
    },
    "tags": []
   },
   "outputs": [],
   "source": [
    "dataset.head()"
   ]
  },
  {
   "cell_type": "code",
   "execution_count": null,
   "id": "59efb22c",
   "metadata": {
    "execution": {
     "iopub.execute_input": "2021-12-22T10:10:19.391426Z",
     "iopub.status.busy": "2021-12-22T10:10:19.390639Z",
     "iopub.status.idle": "2021-12-22T10:10:19.408898Z",
     "shell.execute_reply": "2021-12-22T10:10:19.408411Z",
     "shell.execute_reply.started": "2021-12-13T22:23:54.889884Z"
    },
    "papermill": {
     "duration": 0.049206,
     "end_time": "2021-12-22T10:10:19.409011",
     "exception": false,
     "start_time": "2021-12-22T10:10:19.359805",
     "status": "completed"
    },
    "tags": []
   },
   "outputs": [],
   "source": [
    "dataset.info()"
   ]
  },
  {
   "cell_type": "code",
   "execution_count": null,
   "id": "b2062997",
   "metadata": {
    "execution": {
     "iopub.execute_input": "2021-12-22T10:10:19.464887Z",
     "iopub.status.busy": "2021-12-22T10:10:19.463788Z",
     "iopub.status.idle": "2021-12-22T10:10:20.374962Z",
     "shell.execute_reply": "2021-12-22T10:10:20.375369Z",
     "shell.execute_reply.started": "2021-12-13T22:23:54.912539Z"
    },
    "papermill": {
     "duration": 0.941872,
     "end_time": "2021-12-22T10:10:20.375513",
     "exception": false,
     "start_time": "2021-12-22T10:10:19.433641",
     "status": "completed"
    },
    "tags": []
   },
   "outputs": [],
   "source": [
    "def inspect_dataframe(df, columns):\n",
    "    figs, axs = plt.subplots(len(columns), 1, sharex=True, figsize=(17,17))\n",
    "    for i, col in enumerate(columns):\n",
    "        axs[i].plot(df[col])\n",
    "        axs[i].set_title(col)\n",
    "    plt.show()\n",
    "inspect_dataframe(dataset, dataset.columns)"
   ]
  },
  {
   "cell_type": "markdown",
   "id": "b2c0b59e",
   "metadata": {
    "papermill": {
     "duration": 0.028608,
     "end_time": "2021-12-22T10:10:20.433061",
     "exception": false,
     "start_time": "2021-12-22T10:10:20.404453",
     "status": "completed"
    },
    "tags": []
   },
   "source": [
    "# Data preprocessing"
   ]
  },
  {
   "cell_type": "code",
   "execution_count": null,
   "id": "7bef93c2",
   "metadata": {
    "execution": {
     "iopub.execute_input": "2021-12-22T10:10:20.497444Z",
     "iopub.status.busy": "2021-12-22T10:10:20.496604Z",
     "iopub.status.idle": "2021-12-22T10:10:20.506782Z",
     "shell.execute_reply": "2021-12-22T10:10:20.506330Z",
     "shell.execute_reply.started": "2021-12-13T22:23:55.862103Z"
    },
    "papermill": {
     "duration": 0.045116,
     "end_time": "2021-12-22T10:10:20.506899",
     "exception": false,
     "start_time": "2021-12-22T10:10:20.461783",
     "status": "completed"
    },
    "tags": []
   },
   "outputs": [],
   "source": [
    "if(test_mode):\n",
    "    test_size = 10000\n",
    "    X_train_raw = dataset.iloc[:-test_size]\n",
    "    X_test_raw = dataset.iloc[-test_size:]\n",
    "else:\n",
    "    X_train_raw = dataset\n",
    "\n",
    "# y_train_raw = y.iloc[:-test_size]\n",
    "# Normalize both features and labels\n",
    "X_min = X_train_raw.min()\n",
    "X_max = X_train_raw.max()\n",
    "\n",
    "X_train_raw = (X_train_raw-X_min)/(X_max-X_min)\n",
    "\n",
    "if(test_mode):\n",
    "    # y_test_raw = y.iloc[-test_size:]\n",
    "    X_test_raw = (X_test_raw-X_min)/(X_max-X_min)\n",
    "\n"
   ]
  },
  {
   "cell_type": "markdown",
   "id": "216ec24e",
   "metadata": {
    "papermill": {
     "duration": 0.028324,
     "end_time": "2021-12-22T10:10:20.563620",
     "exception": false,
     "start_time": "2021-12-22T10:10:20.535296",
     "status": "completed"
    },
    "tags": []
   },
   "source": [
    "## Extracting sequences from the dataset"
   ]
  },
  {
   "cell_type": "code",
   "execution_count": null,
   "id": "53033515",
   "metadata": {
    "execution": {
     "iopub.execute_input": "2021-12-22T10:10:20.629423Z",
     "iopub.status.busy": "2021-12-22T10:10:20.622870Z",
     "iopub.status.idle": "2021-12-22T10:10:20.632220Z",
     "shell.execute_reply": "2021-12-22T10:10:20.631706Z",
     "shell.execute_reply.started": "2021-12-13T22:30:08.410857Z"
    },
    "papermill": {
     "duration": 0.040233,
     "end_time": "2021-12-22T10:10:20.632337",
     "exception": false,
     "start_time": "2021-12-22T10:10:20.592104",
     "status": "completed"
    },
    "tags": []
   },
   "outputs": [],
   "source": [
    "def build_sequences(df, target_labels, window, stride, telescope):\n",
    "    # Sanity check to avoid runtime errors\n",
    "    assert window % stride == 0\n",
    "    dataset = []\n",
    "    labels = []\n",
    "    temp_df = df.copy().values\n",
    "    temp_label = df[target_labels].copy().values\n",
    "    padding_len = len(df)%window\n",
    "\n",
    "    if(padding_len != 0):\n",
    "        # Compute padding length\n",
    "        padding_len = window - len(df)%window\n",
    "        padding = np.zeros((padding_len,temp_df.shape[1]), dtype='float32')#float32\n",
    "        temp_df = np.concatenate((padding,df))\n",
    "        padding = np.zeros((padding_len,temp_label.shape[1]), dtype='float32')\n",
    "        temp_label = np.concatenate((padding,temp_label))\n",
    "        assert len(temp_df) % window == 0\n",
    "\n",
    "    for idx in np.arange(0,len(temp_df)-window-telescope,stride):\n",
    "        dataset.append(temp_df[idx:idx+window])\n",
    "        labels.append(temp_label[idx+window:idx+window+telescope])\n",
    "\n",
    "    dataset = np.array(dataset)\n",
    "    labels = np.array(labels)\n",
    "    return dataset, labels"
   ]
  },
  {
   "cell_type": "code",
   "execution_count": null,
   "id": "ed684220",
   "metadata": {
    "execution": {
     "iopub.execute_input": "2021-12-22T10:10:20.694293Z",
     "iopub.status.busy": "2021-12-22T10:10:20.693579Z",
     "iopub.status.idle": "2021-12-22T10:10:20.695953Z",
     "shell.execute_reply": "2021-12-22T10:10:20.695523Z",
     "shell.execute_reply.started": "2021-12-13T22:23:55.882468Z"
    },
    "papermill": {
     "duration": 0.03436,
     "end_time": "2021-12-22T10:10:20.696064",
     "exception": false,
     "start_time": "2021-12-22T10:10:20.661704",
     "status": "completed"
    },
    "tags": []
   },
   "outputs": [],
   "source": [
    "target_labels = dataset.columns\n",
    "window = 600\n",
    "stride = 10\n",
    "telescope = 864"
   ]
  },
  {
   "cell_type": "code",
   "execution_count": null,
   "id": "7e01e8e2",
   "metadata": {
    "execution": {
     "iopub.execute_input": "2021-12-22T10:10:20.759041Z",
     "iopub.status.busy": "2021-12-22T10:10:20.758386Z",
     "iopub.status.idle": "2021-12-22T10:10:20.760986Z",
     "shell.execute_reply": "2021-12-22T10:10:20.761385Z"
    },
    "papermill": {
     "duration": 0.037203,
     "end_time": "2021-12-22T10:10:20.761510",
     "exception": false,
     "start_time": "2021-12-22T10:10:20.724307",
     "status": "completed"
    },
    "tags": []
   },
   "outputs": [],
   "source": [
    "future = dataset[-window:]\n",
    "future = (future-X_min)/(X_max-X_min)\n",
    "future = np.expand_dims(future, axis=0)\n",
    "future.shape"
   ]
  },
  {
   "cell_type": "code",
   "execution_count": null,
   "id": "56b3685c",
   "metadata": {
    "execution": {
     "iopub.execute_input": "2021-12-22T10:10:20.824281Z",
     "iopub.status.busy": "2021-12-22T10:10:20.823461Z",
     "iopub.status.idle": "2021-12-22T10:10:20.942615Z",
     "shell.execute_reply": "2021-12-22T10:10:20.942008Z",
     "shell.execute_reply.started": "2021-12-13T22:30:14.235497Z"
    },
    "papermill": {
     "duration": 0.152308,
     "end_time": "2021-12-22T10:10:20.942791",
     "exception": false,
     "start_time": "2021-12-22T10:10:20.790483",
     "status": "completed"
    },
    "tags": []
   },
   "outputs": [],
   "source": [
    "X_train, y_train = build_sequences(X_train_raw, target_labels, window, stride, telescope)\n",
    "print(X_train.shape, y_train.shape)\n",
    "\n",
    "if(test_mode):\n",
    "    X_test, y_test = build_sequences(X_test_raw, target_labels, window, stride, telescope)\n",
    "    print(X_test.shape, y_test.shape)"
   ]
  },
  {
   "cell_type": "code",
   "execution_count": null,
   "id": "358d80ad",
   "metadata": {
    "execution": {
     "iopub.execute_input": "2021-12-22T10:10:21.011563Z",
     "iopub.status.busy": "2021-12-22T10:10:21.010729Z",
     "iopub.status.idle": "2021-12-22T10:10:21.012733Z",
     "shell.execute_reply": "2021-12-22T10:10:21.013256Z",
     "shell.execute_reply.started": "2021-12-13T22:30:19.452369Z"
    },
    "papermill": {
     "duration": 0.039471,
     "end_time": "2021-12-22T10:10:21.013386",
     "exception": false,
     "start_time": "2021-12-22T10:10:20.973915",
     "status": "completed"
    },
    "tags": []
   },
   "outputs": [],
   "source": [
    "def inspect_multivariate(X, y, columns, telescope, idx=None):\n",
    "    if(idx==None):\n",
    "        idx=np.random.randint(0,len(X))\n",
    "\n",
    "    figs, axs = plt.subplots(len(columns), 1, sharex=True, figsize=(17,17))\n",
    "    for i, col in enumerate(columns):\n",
    "        axs[i].plot(np.arange(len(X[0,:,i])), X[idx,:,i])\n",
    "        axs[i].scatter(np.arange(len(X[0,:,i]), len(X_train[0,:,i])+telescope), y[idx,:,i], color='orange')\n",
    "        axs[i].set_title(col)\n",
    "        axs[i].set_ylim(0,1)\n",
    "    plt.show()"
   ]
  },
  {
   "cell_type": "code",
   "execution_count": null,
   "id": "1e29c193",
   "metadata": {
    "execution": {
     "iopub.execute_input": "2021-12-22T10:10:21.075440Z",
     "iopub.status.busy": "2021-12-22T10:10:21.074659Z",
     "iopub.status.idle": "2021-12-22T10:10:21.814916Z",
     "shell.execute_reply": "2021-12-22T10:10:21.814452Z",
     "shell.execute_reply.started": "2021-12-13T22:30:25.693661Z"
    },
    "papermill": {
     "duration": 0.771916,
     "end_time": "2021-12-22T10:10:21.815046",
     "exception": false,
     "start_time": "2021-12-22T10:10:21.043130",
     "status": "completed"
    },
    "tags": []
   },
   "outputs": [],
   "source": [
    "inspect_multivariate(X_train, y_train, target_labels, telescope)"
   ]
  },
  {
   "cell_type": "markdown",
   "id": "3492ac48",
   "metadata": {
    "papermill": {
     "duration": 0.031972,
     "end_time": "2021-12-22T10:10:21.879821",
     "exception": false,
     "start_time": "2021-12-22T10:10:21.847849",
     "status": "completed"
    },
    "tags": []
   },
   "source": [
    "# Train the model"
   ]
  },
  {
   "cell_type": "code",
   "execution_count": null,
   "id": "b06722f2",
   "metadata": {
    "execution": {
     "iopub.execute_input": "2021-12-22T10:10:21.949427Z",
     "iopub.status.busy": "2021-12-22T10:10:21.948887Z",
     "iopub.status.idle": "2021-12-22T10:10:21.951976Z",
     "shell.execute_reply": "2021-12-22T10:10:21.951460Z",
     "shell.execute_reply.started": "2021-12-13T22:39:51.376304Z"
    },
    "papermill": {
     "duration": 0.040261,
     "end_time": "2021-12-22T10:10:21.952076",
     "exception": false,
     "start_time": "2021-12-22T10:10:21.911815",
     "status": "completed"
    },
    "tags": []
   },
   "outputs": [],
   "source": [
    "input_shape = X_train.shape[1:]\n",
    "output_shape = y_train.shape[1:]\n",
    "print(y_train.shape)\n",
    "\n",
    "batch_size = 128\n",
    "epochs = 200\n",
    "\n",
    "model_name = 'BiLSTM'"
   ]
  },
  {
   "cell_type": "code",
   "execution_count": null,
   "id": "c4a2ab37",
   "metadata": {
    "execution": {
     "iopub.execute_input": "2021-12-22T10:10:22.041379Z",
     "iopub.status.busy": "2021-12-22T10:10:22.040595Z",
     "iopub.status.idle": "2021-12-22T10:10:22.045772Z",
     "shell.execute_reply": "2021-12-22T10:10:22.046602Z",
     "shell.execute_reply.started": "2021-12-13T22:42:08.668724Z"
    },
    "papermill": {
     "duration": 0.062216,
     "end_time": "2021-12-22T10:10:22.046856",
     "exception": false,
     "start_time": "2021-12-22T10:10:21.984640",
     "status": "completed"
    },
    "tags": []
   },
   "outputs": [],
   "source": [
    "def build_model(input_shape ,output_shape):\n",
    "    #create model\n",
    "    model = tfk.Sequential()\n",
    "    model.add(tfkl.Bidirectional(tfkl.LSTM(units=256, return_sequences=True), input_shape=input_shape))\n",
    "    model.add(tfkl.Dropout(0.2))\n",
    "\n",
    "    model.add(tfkl.Bidirectional(tfkl.LSTM(units=256, return_sequences=True)))\n",
    "    model.add(tfkl.Dropout(0.2))\n",
    "\n",
    "    model.add(tfkl.Bidirectional(tfkl.LSTM(units=256)))\n",
    "    model.add(tfkl.Dropout(0.2))\n",
    "\n",
    "    model.add(tfkl.Dense(output_shape[-1]*output_shape[-2], activation='relu'))\n",
    "    model.add(tfkl.Reshape(output_shape))\n",
    "    model.add(tfkl.Conv1D(output_shape[-1], 1, padding='same'))\n",
    "\n",
    "    model.compile(loss=tfk.losses.MeanSquaredError(), optimizer=tfk.optimizers.Adam(), metrics=['mae'])\n",
    "\n",
    "\n",
    "    return model\n"
   ]
  },
  {
   "cell_type": "code",
   "execution_count": null,
   "id": "8ee76189",
   "metadata": {
    "execution": {
     "iopub.execute_input": "2021-12-22T10:10:22.123332Z",
     "iopub.status.busy": "2021-12-22T10:10:22.122819Z",
     "iopub.status.idle": "2021-12-22T10:10:26.121114Z",
     "shell.execute_reply": "2021-12-22T10:10:26.121626Z",
     "shell.execute_reply.started": "2021-12-13T22:42:13.846318Z"
    },
    "papermill": {
     "duration": 4.034941,
     "end_time": "2021-12-22T10:10:26.121812",
     "exception": false,
     "start_time": "2021-12-22T10:10:22.086871",
     "status": "completed"
    },
    "tags": []
   },
   "outputs": [],
   "source": [
    "model = build_model(input_shape, output_shape)\n",
    "model.summary()\n",
    "tfk.utils.plot_model(model, expand_nested=True)"
   ]
  },
  {
   "cell_type": "code",
   "execution_count": null,
   "id": "9ff47d4e",
   "metadata": {
    "execution": {
     "iopub.execute_input": "2021-12-22T10:10:26.216918Z",
     "iopub.status.busy": "2021-12-22T10:10:26.216089Z",
     "iopub.status.idle": "2021-12-22T10:13:31.147669Z",
     "shell.execute_reply": "2021-12-22T10:13:31.135499Z"
    },
    "papermill": {
     "duration": 184.979659,
     "end_time": "2021-12-22T10:13:31.147824",
     "exception": false,
     "start_time": "2021-12-22T10:10:26.168165",
     "status": "completed"
    },
    "tags": []
   },
   "outputs": [],
   "source": [
    "# Train the model\n",
    "history = model.fit(\n",
    "    x = X_train,\n",
    "    y = y_train,\n",
    "    batch_size = batch_size,\n",
    "    epochs = epochs,\n",
    "    validation_split=.2,\n",
    "    callbacks = [\n",
    "        tfk.callbacks.EarlyStopping(monitor='val_loss', mode='min', patience=10, restore_best_weights=True),\n",
    "        tfk.callbacks.ReduceLROnPlateau(monitor='val_loss', mode='min', patience=5, factor=0.5, min_lr=1e-5)\n",
    "    ]\n",
    ").history"
   ]
  },
  {
   "cell_type": "code",
   "execution_count": null,
   "id": "65fc0eed",
   "metadata": {
    "execution": {
     "iopub.execute_input": "2021-12-22T10:13:32.697140Z",
     "iopub.status.busy": "2021-12-22T10:13:32.696299Z",
     "iopub.status.idle": "2021-12-22T10:13:43.330816Z",
     "shell.execute_reply": "2021-12-22T10:13:43.331281Z"
    },
    "papermill": {
     "duration": 11.414746,
     "end_time": "2021-12-22T10:13:43.331457",
     "exception": false,
     "start_time": "2021-12-22T10:13:31.916711",
     "status": "completed"
    },
    "tags": []
   },
   "outputs": [],
   "source": [
    "exp_dir = ''\n",
    "model.save(os.path.join(exp_dir, model_name))"
   ]
  },
  {
   "cell_type": "markdown",
   "id": "b9bbf70f",
   "metadata": {
    "papermill": {
     "duration": 0.740463,
     "end_time": "2021-12-22T10:13:44.822916",
     "exception": false,
     "start_time": "2021-12-22T10:13:44.082453",
     "status": "completed"
    },
    "tags": []
   },
   "source": [
    "# Analyze the results"
   ]
  },
  {
   "cell_type": "code",
   "execution_count": null,
   "id": "de18904f",
   "metadata": {
    "execution": {
     "iopub.execute_input": "2021-12-22T10:13:46.626678Z",
     "iopub.status.busy": "2021-12-22T10:13:46.619510Z",
     "iopub.status.idle": "2021-12-22T10:13:47.241859Z",
     "shell.execute_reply": "2021-12-22T10:13:47.241394Z",
     "shell.execute_reply.started": "2021-12-13T22:23:56.138566Z"
    },
    "papermill": {
     "duration": 1.42086,
     "end_time": "2021-12-22T10:13:47.241989",
     "exception": false,
     "start_time": "2021-12-22T10:13:45.821129",
     "status": "completed"
    },
    "tags": []
   },
   "outputs": [],
   "source": [
    "# Plot loss, accuracy and learning rate\n",
    "best_epoch = np.argmin(history['val_loss'])\n",
    "\n",
    "plt.figure(figsize=(17,4))\n",
    "plt.plot(history['loss'], label='Training loss', alpha=.8, color='#ff7f0e')\n",
    "plt.plot(history['val_loss'], label='Validation loss', alpha=.9, color='#5a9aa5')\n",
    "plt.axvline(x=best_epoch, label='Best epoch', alpha=.3, ls='--', color='#5a9aa5')\n",
    "plt.title('Mean Squared Error (Loss)')\n",
    "plt.legend()\n",
    "plt.grid(alpha=.3)\n",
    "plt.show()\n",
    "\n",
    "plt.figure(figsize=(17,4))\n",
    "plt.plot(history['mae'], label='Training accuracy', alpha=.8, color='#ff7f0e')\n",
    "plt.plot(history['val_mae'], label='Validation accuracy', alpha=.9, color='#5a9aa5')\n",
    "plt.axvline(x=best_epoch, label='Best epoch', alpha=.3, ls='--', color='#5a9aa5')\n",
    "plt.title('Mean Absolute Error')\n",
    "plt.legend()\n",
    "plt.grid(alpha=.3)\n",
    "plt.show()\n",
    "\n",
    "plt.figure(figsize=(18,3))\n",
    "plt.plot(history['lr'], label='Learning Rate', alpha=.8, color='#ff7f0e')\n",
    "plt.axvline(x=best_epoch, label='Best epoch', alpha=.3, ls='--', color='#5a9aa5')\n",
    "plt.legend()\n",
    "plt.grid(alpha=.3)\n",
    "plt.show()"
   ]
  },
  {
   "cell_type": "code",
   "execution_count": null,
   "id": "58134d44",
   "metadata": {
    "execution": {
     "iopub.execute_input": "2021-12-22T10:13:48.732166Z",
     "iopub.status.busy": "2021-12-22T10:13:48.731081Z",
     "iopub.status.idle": "2021-12-22T10:13:50.305789Z",
     "shell.execute_reply": "2021-12-22T10:13:50.305092Z",
     "shell.execute_reply.started": "2021-12-13T22:23:56.140552Z"
    },
    "papermill": {
     "duration": 2.331455,
     "end_time": "2021-12-22T10:13:50.305958",
     "exception": false,
     "start_time": "2021-12-22T10:13:47.974503",
     "status": "completed"
    },
    "tags": []
   },
   "outputs": [],
   "source": [
    "# Predict the test set \n",
    "if(test_mode):\n",
    "    predictions = model.predict(X_test)\n",
    "    print(predictions.shape)\n",
    "\n",
    "    mean_squared_error = tfk.metrics.mse(y_test.flatten(),predictions.flatten())\n",
    "    mean_absolute_error = tfk.metrics.mae(y_test.flatten(),predictions.flatten())\n",
    "    print(mean_squared_error, mean_absolute_error)"
   ]
  },
  {
   "cell_type": "code",
   "execution_count": null,
   "id": "62ae7ccf",
   "metadata": {
    "execution": {
     "iopub.execute_input": "2021-12-22T10:13:51.989830Z",
     "iopub.status.busy": "2021-12-22T10:13:51.989193Z",
     "iopub.status.idle": "2021-12-22T10:13:51.991557Z",
     "shell.execute_reply": "2021-12-22T10:13:51.991958Z",
     "shell.execute_reply.started": "2021-12-13T22:23:56.142118Z"
    },
    "papermill": {
     "duration": 0.740892,
     "end_time": "2021-12-22T10:13:51.992100",
     "exception": false,
     "start_time": "2021-12-22T10:13:51.251208",
     "status": "completed"
    },
    "tags": []
   },
   "outputs": [],
   "source": [
    "def inspect_multivariate_prediction(X, y, pred, columns, telescope, idx=None):\n",
    "    if(idx==None):\n",
    "        idx=np.random.randint(0,len(X))\n",
    "\n",
    "    figs, axs = plt.subplots(len(columns), 1, sharex=True, figsize=(17,17))\n",
    "    for i, col in enumerate(columns):\n",
    "        axs[i].plot(np.arange(len(X[0,:,i])), X[idx,:,i])\n",
    "        axs[i].plot(np.arange(len(X[0,:,i]), len(X_train[0,:,i])+telescope), y[idx,:,i], color='orange')\n",
    "        axs[i].plot(np.arange(len(X[0,:,i]), len(X_train[0,:,i])+telescope), pred[idx,:,i], color='green')\n",
    "        axs[i].set_title(col)\n",
    "        axs[i].set_ylim(0,1)\n",
    "    plt.show()"
   ]
  },
  {
   "cell_type": "code",
   "execution_count": null,
   "id": "8e4bd9c0",
   "metadata": {
    "execution": {
     "iopub.execute_input": "2021-12-22T10:13:53.489160Z",
     "iopub.status.busy": "2021-12-22T10:13:53.484940Z",
     "iopub.status.idle": "2021-12-22T10:13:54.149370Z",
     "shell.execute_reply": "2021-12-22T10:13:54.149811Z",
     "shell.execute_reply.started": "2021-12-13T22:23:56.143775Z"
    },
    "papermill": {
     "duration": 1.427377,
     "end_time": "2021-12-22T10:13:54.149973",
     "exception": false,
     "start_time": "2021-12-22T10:13:52.722596",
     "status": "completed"
    },
    "tags": []
   },
   "outputs": [],
   "source": [
    "if(test_mode):\n",
    "    inspect_multivariate_prediction(X_test, y_test, predictions, target_labels, telescope)"
   ]
  },
  {
   "cell_type": "code",
   "execution_count": null,
   "id": "bb178d01",
   "metadata": {
    "execution": {
     "iopub.execute_input": "2021-12-22T10:16:21.622419Z",
     "iopub.status.busy": "2021-12-22T10:16:21.621710Z",
     "iopub.status.idle": "2021-12-22T10:16:21.624524Z",
     "shell.execute_reply": "2021-12-22T10:16:21.624094Z",
     "shell.execute_reply.started": "2021-12-13T22:23:56.14515Z"
    },
    "papermill": {
     "duration": 0.762276,
     "end_time": "2021-12-22T10:16:21.624631",
     "exception": false,
     "start_time": "2021-12-22T10:16:20.862355",
     "status": "completed"
    },
    "tags": []
   },
   "outputs": [],
   "source": [
    "if(test_mode):\n",
    "    maes = []\n",
    "    for i in range(predictions.shape[1]):\n",
    "        ft_maes = []\n",
    "        for j in range(predictions.shape[2]):\n",
    "            ft_maes.append(np.mean(np.abs(y_test[:,i,j]-predictions[:,i,j]), axis=0))\n",
    "        ft_maes = np.array(ft_maes)\n",
    "        maes.append(ft_maes)\n",
    "    maes = np.array(maes)"
   ]
  },
  {
   "cell_type": "code",
   "execution_count": null,
   "id": "77645c47",
   "metadata": {
    "execution": {
     "iopub.execute_input": "2021-12-22T10:16:23.110984Z",
     "iopub.status.busy": "2021-12-22T10:16:23.109990Z",
     "iopub.status.idle": "2021-12-22T10:16:23.171547Z",
     "shell.execute_reply": "2021-12-22T10:16:23.171109Z",
     "shell.execute_reply.started": "2021-12-13T22:23:56.146524Z"
    },
    "papermill": {
     "duration": 0.80688,
     "end_time": "2021-12-22T10:16:23.171675",
     "exception": false,
     "start_time": "2021-12-22T10:16:22.364795",
     "status": "completed"
    },
    "tags": []
   },
   "outputs": [],
   "source": [
    "if(test_mode):\n",
    "    future_predictions = model.predict(future)\n",
    "    print(future_predictions.shape)"
   ]
  },
  {
   "cell_type": "code",
   "execution_count": null,
   "id": "9c0587c4",
   "metadata": {
    "execution": {
     "iopub.execute_input": "2021-12-22T10:16:24.739454Z",
     "iopub.status.busy": "2021-12-22T10:16:24.719319Z",
     "iopub.status.idle": "2021-12-22T10:16:25.453594Z",
     "shell.execute_reply": "2021-12-22T10:16:25.454117Z",
     "shell.execute_reply.started": "2021-12-13T22:23:56.1479Z"
    },
    "papermill": {
     "duration": 1.502819,
     "end_time": "2021-12-22T10:16:25.454277",
     "exception": false,
     "start_time": "2021-12-22T10:16:23.951458",
     "status": "completed"
    },
    "tags": []
   },
   "outputs": [],
   "source": [
    "if(test_mode):\n",
    "    figs, axs = plt.subplots(len(target_labels), 1, sharex=True, figsize=(17,17))\n",
    "    for i, col in enumerate(target_labels):\n",
    "        axs[i].plot(np.arange(len(future[0,:,i])), future[0,:,i])\n",
    "        axs[i].plot(np.arange(len(future[0,:,i]), len(future[0,:,i])+telescope), future_predictions[0,:,i], color='orange')\n",
    "        axs[i].fill_between(\n",
    "            np.arange(len(future[0,:,i]), len(future[0,:,i])+telescope), \n",
    "            future_predictions[0,:,i]+maes[:,i], \n",
    "            future_predictions[0,:,i]-maes[:,i], \n",
    "            color='orange', alpha=.3)\n",
    "        axs[i].set_title(col)\n",
    "        # axs[i].set_ylim(0,1)\n",
    "    plt.show()"
   ]
  }
 ],
 "metadata": {
  "kernelspec": {
   "display_name": "Python 3",
   "language": "python",
   "name": "python3"
  },
  "language_info": {
   "codemirror_mode": {
    "name": "ipython",
    "version": 3
   },
   "file_extension": ".py",
   "mimetype": "text/x-python",
   "name": "python",
   "nbconvert_exporter": "python",
   "pygments_lexer": "ipython3",
   "version": "3.7.12"
  },
  "papermill": {
   "default_parameters": {},
   "duration": 384.925988,
   "end_time": "2021-12-22T10:16:30.083204",
   "environment_variables": {},
   "exception": null,
   "input_path": "__notebook__.ipynb",
   "output_path": "__notebook__.ipynb",
   "parameters": {},
   "start_time": "2021-12-22T10:10:05.157216",
   "version": "2.3.3"
  }
 },
 "nbformat": 4,
 "nbformat_minor": 5
}
